{
  "nbformat": 4,
  "nbformat_minor": 0,
  "metadata": {
    "colab": {
      "name": "Surya Narayanan CS 145 Project 3 final submission.ipynb",
      "provenance": [],
      "collapsed_sections": []
    },
    "kernelspec": {
      "name": "python3",
      "display_name": "Python 3"
    },
    "accelerator": "GPU"
  },
  "cells": [
    {
      "cell_type": "markdown",
      "metadata": {
        "id": "U5JUMgc_gbHp",
        "colab_type": "text"
      },
      "source": [
        "# CS145: Project 3 | Project Name"
      ]
    },
    {
      "cell_type": "markdown",
      "metadata": {
        "id": "EHDiv4GrhofN",
        "colab_type": "text"
      },
      "source": [
        "## Collaborators:\n",
        "Please list the names and SUNet IDs of your collaborators below:\n",
        "* *Hari, Surya Narayanan, surya21*\n"
      ]
    },
    {
      "cell_type": "markdown",
      "metadata": {
        "id": "gMNQWFvSgepX",
        "colab_type": "text"
      },
      "source": [
        "## Project Overview"
      ]
    },
    {
      "cell_type": "markdown",
      "metadata": {
        "id": "lX1Jkglwg1SI",
        "colab_type": "text"
      },
      "source": [
        "*Provide a brief project overview; that is, an explanation of the main question you are trying to answer.*\n",
        "\n",
        "Rating systems play an interesting role in non- partisan  decision making. With the available data today, database querying and machine learning make it easy to extract information and find the relevance of various features in the dataset. \n",
        "\n",
        "Further analysis can be done to answer under what circumstances are these learnings robust and under what circumstances do these assumptions break. It is our aim to study the process of recommendations in as much depth as is allowed. \n",
        "\n",
        "I have decided to construct a recommender engine on the IMDB database. I found this database on Kaggle as one among the top rated 'easy to use' datasets. With millions of records about movies, TV Show Episodes, TV Specials and detailed information about Writers, Producers, Directors and Actors, this dataset covers a significant modern cultural phenomenon and hence was fun to work with. \n",
        "\n",
        "To create a recommender system from the IMDB dataset, one is urged to think of whom the recommender system will help. \n",
        "One potential audience is directors or film-makers, for whom the recommender system can predict whom to cast in the title, what genre of movie is an artist best suited for, how many regions or languages to release the title in, what aspect of the talent (singing, acting) is the artist most liked by the audience, when is the best time to release the title. \n",
        "\n",
        "Another potential audience is moviegoers, for whom the recommender system can predict what movies can be good to watch, by predicting its ratings, so they don't waste time and money on watching a bad movie.\n",
        "\n",
        "Narrowing down from all potential features, the [central question](https://) addressed here is **\"What are the elements of a highly rated title, What is a good model to predict the rating of the title, validating the prediction & analyzing the underlying reason”**.  \n",
        "\n",
        "It is important to learn features that audience like, or don't like. It can also be important to learn from erroneous predictions, to be able to build a learning system. Hence, learning along what axis the predictions are most inaccurate, can help us achieve the question of what features introduce the most error in our recommender system. \n",
        "\n",
        "The features that we have engineered for our recommender system, are,  the age of the artist while performing in that title, the total number of regions and languages the title was released in, the length of the life of a particular title (number of shows), experience of the crew (number of titles). I think that all these features are positively correlated with the success of a show to predict a rating out of 10 for a Title.\n",
        "The arrived rating is validated by comparing it with the actual rating and reasoning the cause for variance.\n",
        "\n",
        "*Briefly summarize any supplementary questions that will be used to help answer central questions.*\n",
        "\n",
        "The  [supplementary questions](https://) we will ask are **\"What features introduce the most error in our recommender system?\"**\n",
        "\n",
        "Further questions we wanted to ask specific to our project with this dataset include \"Can there be a difference between movies that are shot by Charlie Chaplin and that feature Charlie Chaplin in an acting role?\" We found that passing the role of a Crew member in to the algorithm increased its accuracy by 5%. \n",
        "\n",
        "Another supplementary question that we wanted to ask specific to our project and our dataset include the age of the actor when the Title was released. We wanted to help the algorithm learn the difference between early Chaplin movies and later Chaplin movies, taking Chaplin as an example, or early Spielberg movies vs later ones. We did not do a hold out cross validation analysis on this feature, but consider this a useful question to answer.\n",
        "\n",
        "*What is future work? Where can it go from here*\n",
        "\n",
        " Ideally, I would want to build an interactive system, where the users should be able to choose the feature that they want to be considered while arriving at the rating i.e Dynamic prediction.  \n",
        "\n",
        "Also, this system should be, where the rating should be predicted even before the Title is made i.e. The Directors can predict what could be rating if they cast certain crew and release at a certain time.  Similarly, the actors could predict what would be the rating if they took up a certain role. truly a Prediction system\n",
        "\n",
        "As a future work, we could also predict other aspects, such as, predict the popularity or the number of votes that a particular work will receive. \n",
        "\n",
        "As a future work, few other data points that could be used to improve the accuracy of the prediction, such as \n",
        "\n",
        "(a) which region and in which language the title was being released in as a feature & learning about how one region contributes to the popularity of a particular title \n",
        "\n",
        "(b) by passing the ratings of the list of works of an artist, who is part of the Title. This Network effect helps us widen the scope of our study and gives us a richer understanding of who is in a Title. \n",
        "\n",
        "(c) it could be useful to scrape the date/time data of when a particular title was aired / released to determine when it is best to release a film, or what day of the week / time of the day to air a TV show to attract most viewers, and get the highest rating. This analysis could be a very interesting complement to the existing analysis, as knowledge about date/time statistics can be very effective to position a movie in the market when actors have competing movies they are in and want to stagger their releases to maximize their appeal.\n",
        "\n",
        "(d) analyzing statistics on the poster and trailer of the Title by analyzing Youtube data and reviews.\n",
        "\n",
        "\n",
        "\n",
        "---\n"
      ]
    },
    {
      "cell_type": "markdown",
      "metadata": {
        "id": "r_GvgTCcgv6N",
        "colab_type": "text"
      },
      "source": [
        "## Analysis of Dataset"
      ]
    },
    {
      "cell_type": "markdown",
      "metadata": {
        "id": "c6wGQ8ZPgyuJ",
        "colab_type": "text"
      },
      "source": [
        "---\n",
        "\n",
        "**Provide a brief overview of what your dataset is about as well as the overall size\n",
        "and complexity (in terms of bytes, the number of tables, etc.). Keep in mind that\n",
        "small datasets may lead to difficulty when attempting machine learning.**\n",
        "\n",
        "This dataset is roughly about two large categories of information. One category is about people [Actors, Actresses, Directors, Producers, Camera Crew] and another about Movie/TV Titles [Year of Release, Actors in it, how many votes it got on IMDB etc]. \n",
        "\n",
        "There are 5 Tables and the entire dataset is about 3 Gigabytes big. Two tables are 500 MBs, 1 table is 1 GB, another 2 GB and one is a smaller 25 MB. \n",
        "\n",
        "We believe the datasets are big enough for analys, as each contains between 1 Million and 36 Million rows of data. After performing a join and engineering features, we found that we had around 5 Million rows of training and around  half a million rows each of evaluation and test data. \n",
        "\n",
        "**Comment on how the dataset you chose is organized. Some questions you may think about are: At a high level, what information does each table capture? What are the relationships between tables / how are they related? You may want to\n",
        "elaborate by providing keys and foreign keys of tables as necessary.**\n",
        "\n",
        "The dataset is organized into five tables. We have underlined the primary keys of the tables and italicized the foreign keys where appropriate. \n",
        "\n",
        "\n",
        "\n",
        "1.   The first Table is called Name Basics. It has \n",
        "> *   The Name an artist. \n",
        "> * [nconst](https://): An ID to identify people uniquely.\n",
        "> * Their birth Year\n",
        "> * Their death Year\n",
        "> *  Their primary or main profession (director, producer, sometimes many).\n",
        "> * One column contains a list of Well known Titles that this artist is associated with. \n",
        "\n",
        "2.   The second table is called Title Basics. It contains\n",
        "> * [tconst](https://): An ID for each unique work\n",
        "> * The title of the work \n",
        "> * The type of the work (TV Episode, TV Special, Movie or Short)\n",
        "> * The Year the piece started airing\n",
        "> * The Year the piece ended airing\n",
        "> * The runtime of the work\n",
        "> * The genres of the work\n",
        "> * Whether or not that work is Adult content\n",
        "> * Whether or not the Title of that work was the Original Title of that work (used for shows that are dubbed in and whose titles are transalated into another language )\n",
        "\n",
        "3.   The third, Title Principals, contains\n",
        "> * The [nconst](https://): ID of an artist\n",
        "> * [tconst](https://): The tconst ID of the work in which they are playing a role \n",
        "> * An [ordering](https://): column used to form a primary key - useful for when the person plays multiple roles in the Title (director/producer) or (writer/director)\n",
        "> * A category column explaining their role in the title \n",
        "> * The name of the characterrole that each person in Name Basics plays in each work in Title Basics (if in an acting role)\n",
        "\n",
        "4.   The fourth, called Titles AKAS contains information about language and region the Title was released in. Specifically, \n",
        "> * [tconst](https://): The ID corresponding to a particular work\n",
        "> * The Title of the work corresponding to the aforementioned tconst\n",
        "> * The region it was released in\n",
        "> * The language it was released in\n",
        "> * An [ordering](https://): column used to form a primary key - since the tconst is not unique for the same title released in multiple languages. \n",
        "> * A type column: used to indicate the copy that might have been released for TV audiences or for movie festival audiences\n",
        "> * An attributes column: used for notes about the title: whether this Title is the working title, the title of the entire series or one of the seasons.\n",
        "\n",
        "\n",
        "4.   Lastly, the table called Ratings, has information about how well the Title was received by the audience across the globe. Specifically, the columns are\n",
        "> * [tconst](https://): The ID corresponding to a particular work\n",
        "> * The number of people that voted on this Title\n",
        "> * The rating out of 10 each Title got on average from all the people who voted on it. \n",
        "\n",
        "\n",
        "**Your analysis should demonstrate that you understand the structure and the content of the data you are working with. You may supplement your analysis with concrete examples to corroborate your statements.**\n",
        "\n",
        "----"
      ]
    },
    {
      "cell_type": "markdown",
      "metadata": {
        "id": "Fc_clta9g3H5",
        "colab_type": "text"
      },
      "source": [
        "## Data Exploration"
      ]
    },
    {
      "cell_type": "code",
      "metadata": {
        "id": "1NpylKnXDnB9",
        "colab_type": "code",
        "colab": {}
      },
      "source": [
        "import matplotlib.pyplot as plt\n",
        "import numpy as np\n",
        "import pandas as pd\n",
        "%matplotlib inline\n",
        "from google.colab import auth\n",
        "auth.authenticate_user() \n",
        "project_id = \"cs-145-p3\""
      ],
      "execution_count": 0,
      "outputs": []
    },
    {
      "cell_type": "markdown",
      "metadata": {
        "id": "OsMMIDrjg_YG",
        "colab_type": "text"
      },
      "source": [
        "---\n",
        "\n",
        "Since we are predicting the ratings of the data, it would be nice to visualize how the ratings are distributed. \n",
        "\n",
        "---"
      ]
    },
    {
      "cell_type": "code",
      "metadata": {
        "id": "4Mjo6iCyDjr2",
        "colab_type": "code",
        "colab": {}
      },
      "source": [
        "%%bigquery --project $project_id numvotes_vs_ratings\n",
        "SELECT\n",
        "  average_rating stars,\n",
        "  num_votes votes\n",
        "FROM\n",
        "  `cs-145-p3.kaggle_imdb_title_basics_tsv_gz.titles_ratings`\n",
        "ORDER BY votes desc"
      ],
      "execution_count": 0,
      "outputs": []
    },
    {
      "cell_type": "code",
      "metadata": {
        "id": "gFNbNKBdDww-",
        "colab_type": "code",
        "outputId": "a7eeda29-50a7-4f74-b73f-c5b1d014c563",
        "colab": {
          "base_uri": "https://localhost:8080/",
          "height": 295
        }
      },
      "source": [
        "starspan = np.linspace(start = 0, stop = 10, num = 300)\n",
        "sticks, bins, plot = plt.hist(numvotes_vs_ratings['stars'], bins = starspan)\n",
        "plt.title('Distribution of average rating of Titles on IMDB')\n",
        "plt.xlabel('Average Rating out of 10')\n",
        "plt.ylabel('Number of Titles')\n",
        "plt.show()"
      ],
      "execution_count": 0,
      "outputs": [
        {
          "output_type": "display_data",
          "data": {
            "image/png": "[encoded data removed]",
            "text/plain": [
              "<Figure size 432x288 with 1 Axes>"
            ]
          },
          "metadata": {
            "tags": []
          }
        }
      ]
    },
    {
      "cell_type": "markdown",
      "metadata": {
        "id": "1iFJNmviD4WF",
        "colab_type": "text"
      },
      "source": [
        "---\n",
        "\n",
        "The mean rating seems to be somwhere between 6 and 8 with a left tail \n",
        "\n",
        "Next, we examine the popularity of a Title - how are the number of votes that form this rating distributed? \n",
        "\n",
        "---\n"
      ]
    },
    {
      "cell_type": "code",
      "metadata": {
        "id": "sblRM3M68xyd",
        "colab_type": "code",
        "colab": {}
      },
      "source": [
        "%%bigquery --project $project_id numvotes\n",
        "SELECT\n",
        "  count(num_votes) count\n",
        "  ,num_votes votes\n",
        "FROM\n",
        "  `cs-145-p3.kaggle_imdb_title_basics_tsv_gz.titles_ratings`\n",
        "Group BY num_votes"
      ],
      "execution_count": 0,
      "outputs": []
    },
    {
      "cell_type": "code",
      "metadata": {
        "id": "ARakQB7cEFME",
        "colab_type": "code",
        "outputId": "c8f4ec4f-b05e-4097-c377-fc6d0b1adea3",
        "colab": {
          "base_uri": "https://localhost:8080/",
          "height": 295
        }
      },
      "source": [
        "plt.scatter( y = np.log10(numvotes['count']), x = np.log10(numvotes['votes']), s = 1)\n",
        "plt.title('Distribution of # of votes given to Titles on IMDB')\n",
        "plt.xlabel('Log # of votes')\n",
        "plt.ylabel('Log # of Titles')\n",
        "plt.show()"
      ],
      "execution_count": 0,
      "outputs": [
        {
          "output_type": "display_data",
          "data": {
            "image/png": "[encoded data removed]",
            "text/plain": [
              "<Figure size 432x288 with 1 Axes>"
            ]
          },
          "metadata": {
            "tags": []
          }
        }
      ]
    },
    {
      "cell_type": "markdown",
      "metadata": {
        "id": "dAGuR3p07tM8",
        "colab_type": "text"
      },
      "source": [
        "---\n",
        "\n",
        "We see that there are hundreds of titles with thousands of votes. We wish to see a graph sloping upwards - that is a distribution where there are many titles with many votes. However, the graph slopes downwards here, where there are many titles with few votes. However, the concentration of the data in the middle, with between tens and hundreds of Titles with hundreds or thousands of votes allows scope for analysis. \n",
        "\n",
        "Next, it would be good to see a joint distribution of the number of votes given to a Title and the rating received by the Title to see what the trend is. One would expect that a Title with more votes has a score tending to the average between 6 and 8, since it is an unbiased estimate. \n",
        "\n",
        "---"
      ]
    },
    {
      "cell_type": "code",
      "metadata": {
        "id": "76TZMFV4-F2-",
        "colab_type": "code",
        "colab": {}
      },
      "source": [
        "%%bigquery --project $project_id ratings_vs_votes\n",
        "SELECT\n",
        "  average_rating stars,\n",
        "  num_votes votes\n",
        "FROM\n",
        "  `cs-145-p3.kaggle_imdb_title_basics_tsv_gz.titles_ratings`\n",
        "WHERE num_votes > 21"
      ],
      "execution_count": 0,
      "outputs": []
    },
    {
      "cell_type": "code",
      "metadata": {
        "id": "G8COqTuC-Te4",
        "colab_type": "code",
        "outputId": "88c0b4ae-897c-4427-994e-c957773d421c",
        "colab": {
          "base_uri": "https://localhost:8080/",
          "height": 295
        }
      },
      "source": [
        "plt.scatter(x = ratings_vs_votes['stars'], y = np.log10(ratings_vs_votes['votes']), s = 1)\n",
        "plt.title('Number of votes vs average rating for a Title on IMDB')\n",
        "plt.ylabel('Log # of votes')\n",
        "plt.xlabel('Average Rating (Out of 10)')\n",
        "plt.show()"
      ],
      "execution_count": 0,
      "outputs": [
        {
          "output_type": "display_data",
          "data": {
            "image/png": "[encoded data removed]",
            "text/plain": [
              "<Figure size 432x288 with 1 Axes>"
            ]
          },
          "metadata": {
            "tags": []
          }
        }
      ]
    },
    {
      "cell_type": "markdown",
      "metadata": {
        "id": "hThR5fp7_NNM",
        "colab_type": "text"
      },
      "source": [
        "---\n",
        "\n",
        "As expected, there is a peak between 6 and 8, the Titles with the most numbuer of votes tend to have an unbiased estiamte of the average rating. \n",
        "\n",
        "However, there is an interesting skew to the right of the graph. We infer from this skew that as a movie is rated higher, there are more people who awant to review it and give it a good rating. \n",
        "\n",
        "Let us explore key geographies next. In which geographies are titles released most? And in what languages?\n",
        "\n",
        "---"
      ]
    },
    {
      "cell_type": "code",
      "metadata": {
        "id": "8mgkOmCk-17L",
        "colab_type": "code",
        "colab": {}
      },
      "source": [
        "%%bigquery --project $project_id region\n",
        "SELECT\n",
        "  region,\n",
        "  COUNT(region) as num_titles\n",
        "FROM\n",
        "  `cs-145-p3.kaggle_imdb_title_basics_tsv_gz.title_akas`\n",
        "GROUP BY\n",
        "  region\n",
        "ORDER BY num_titles desc\n",
        "LIMIT 15"
      ],
      "execution_count": 0,
      "outputs": []
    },
    {
      "cell_type": "code",
      "metadata": {
        "id": "AMiKJ-zbAICb",
        "colab_type": "code",
        "outputId": "66adc9e3-15af-4fd9-da0d-e8e094e3a25d",
        "colab": {
          "base_uri": "https://localhost:8080/",
          "height": 295
        }
      },
      "source": [
        "plt.bar(x = region['region'], height = np.log10(region['num_titles']))\n",
        "plt.title('Distribution of # of titles from the 15 most popular regions')\n",
        "plt.ylabel('Log # of Titles')\n",
        "plt.xlabel('Region the title was released')\n",
        "plt.show()"
      ],
      "execution_count": 0,
      "outputs": [
        {
          "output_type": "display_data",
          "data": {
            "image/png": "[encoded data removed]",
            "text/plain": [
              "<Figure size 432x288 with 1 Axes>"
            ]
          },
          "metadata": {
            "tags": []
          }
        }
      ]
    },
    {
      "cell_type": "markdown",
      "metadata": {
        "id": "ifhWcyuZBCIs",
        "colab_type": "text"
      },
      "source": [
        "---\n",
        "Western Europe (France FR, Germany DE and Spain ES are topping the list, with Japan, Italy and India following. Surprisingly, US is not even in the top five)\n",
        "\n",
        "Next, what languages are a title released in? What are the most popular languages that titles are released in?\n",
        "\n",
        "---"
      ]
    },
    {
      "cell_type": "code",
      "metadata": {
        "id": "lMhksEnsBBjw",
        "colab_type": "code",
        "colab": {}
      },
      "source": [
        "%%bigquery --project $project_id language\n",
        "SELECT\n",
        "  Language,\n",
        "  COUNT(Language) as num_titles\n",
        "FROM\n",
        "  `cs-145-p3.kaggle_imdb_title_basics_tsv_gz.title_akas`\n",
        "GROUP BY\n",
        "  Language\n",
        "ORDER BY num_titles desc\n",
        "LIMIT 15"
      ],
      "execution_count": 0,
      "outputs": []
    },
    {
      "cell_type": "code",
      "metadata": {
        "id": "X2rjzW9yBVUU",
        "colab_type": "code",
        "outputId": "58631315-4551-4765-a340-5b34a0669794",
        "colab": {
          "base_uri": "https://localhost:8080/",
          "height": 295
        }
      },
      "source": [
        "plt.bar(x = language['Language'], height = np.log10(language['num_titles']))\n",
        "plt.title('Distribution of # of titles from the 15 most popular languages')\n",
        "plt.ylabel('Log # of Titles')\n",
        "plt.xlabel('Language the title was released in')\n",
        "plt.show()"
      ],
      "execution_count": 0,
      "outputs": [
        {
          "output_type": "display_data",
          "data": {
            "image/png": "[encoded data removed]",
            "text/plain": [
              "<Figure size 432x288 with 1 Axes>"
            ]
          },
          "metadata": {
            "tags": []
          }
        }
      ]
    },
    {
      "cell_type": "markdown",
      "metadata": {
        "id": "RINE72qDBsA4",
        "colab_type": "text"
      },
      "source": [
        "---\n",
        "\n",
        "The most popular languages are french fr, hindi hi, spanish es, german de, and italian it. English, surprisingly does not appear very high on this list.\n",
        "\n",
        "One explanation of these trends above is that there are a lot of titles that are originally in a different language such as English and are transalated or dubbed and released in different languages such as French, Japanese and Spanish. \n",
        "\n",
        "These releases are counted over and above Titles released in that native language, adding to the number of titles released in that region, and in that language. \n",
        "\n",
        "Observation: Fance, Spain and Germany are three of the most popular regions in which titles are released, and French, Spanish and German are three of the most popular languages in which titles are released.\n",
        "\n",
        "Next, we explore who are some people that have on average the highest rated movies on IMDB. To do so, we will first write some aggregating queries to explore the distribution of their characteristics and then display their individual identities\n",
        "\n",
        "Firstly, what are the most famous professions in our dataset? Will it be Directors, Actors, or Crew members? \n",
        "\n",
        "---"
      ]
    },
    {
      "cell_type": "code",
      "metadata": {
        "id": "fNF_mkA_Cno5",
        "colab_type": "code",
        "colab": {}
      },
      "source": [
        "%%bigquery --project $project_id category\n",
        "\n",
        "SELECT\n",
        "  category,\n",
        "  COUNT(tconst) AS num\n",
        "FROM\n",
        "  `cs-145-p3.kaggle_imdb_title_basics_tsv_gz.title_principle_data`\n",
        "GROUP BY\n",
        "  category\n",
        "ORDER BY num DESC"
      ],
      "execution_count": 0,
      "outputs": []
    },
    {
      "cell_type": "code",
      "metadata": {
        "id": "yhSz54hBCp3Y",
        "colab_type": "code",
        "outputId": "067eb0b2-3ed0-4a65-ea00-57cecc33f8c1",
        "colab": {
          "base_uri": "https://localhost:8080/",
          "height": 388
        }
      },
      "source": [
        "plt.bar(height = np.log10(category['num']), x = category['category'])\n",
        "plt.title('Distribution of professions on the IMDB dataset')\n",
        "plt.ylabel('Log number of People with these professions')\n",
        "plt.xlabel('Profession of this person in the dataset')\n",
        "plt.xticks(rotation='vertical')\n",
        "plt.show()"
      ],
      "execution_count": 0,
      "outputs": [
        {
          "output_type": "display_data",
          "data": {
            "image/png": "[encoded data removed]",
            "text/plain": [
              "<Figure size 432x288 with 1 Axes>"
            ]
          },
          "metadata": {
            "tags": []
          }
        }
      ]
    },
    {
      "cell_type": "markdown",
      "metadata": {
        "id": "hDU_ngMgCvqc",
        "colab_type": "text"
      },
      "source": [
        "--- \n",
        "\n",
        "Surprisingly, Writers are more common than directors or producers in this dataset! Surprisingly or Unsurprisingly, there are more actors or actresses than any other category. However, this could be a feature of how the data was collected. Further, there are lot of people who have appeared as themselves on a movie, TV show or Talk show. We will be exploring the connection of this feature to ratings directly in the machine learning project\n",
        "\n",
        "\n",
        "Who are the most successful actors? We shall dive into an exploration. We will start with all Crew members with all levels of experience from all across the globe and gradually narrow our search for all highly rated, experienced actors and actresses in Movies released in the United States.\n",
        "\n",
        "--- \n"
      ]
    },
    {
      "cell_type": "code",
      "metadata": {
        "id": "gtgATklXPXfV",
        "colab_type": "code",
        "colab": {}
      },
      "source": [
        "%%bigquery --project $project_id Successful_crew_members\n",
        "SELECT\n",
        "  nb.primaryName,\n",
        "  ROUND(AVG(tr.average_rating),2) avg_score,\n",
        "  nb.primaryprofession,\n",
        "  COUNT(DISTINCT(tr.tconst)) Experience\n",
        "FROM\n",
        "  `cs-145-p3.kaggle_imdb_title_basics_tsv_gz.title_principle_data` tp,\n",
        "  `cs-145-p3.kaggle_imdb_title_basics_tsv_gz.name_basic` nb,\n",
        "  `cs-145-p3.kaggle_imdb_title_basics_tsv_gz.titles_ratings` tr\n",
        "WHERE\n",
        "  nb.nconst = tp.nconst\n",
        "  AND tr.tconst = tp.tconst\n",
        "GROUP BY\n",
        "  nb.primaryName,\n",
        "  nb.primaryprofession\n",
        "ORDER BY\n",
        "  avg_score DESC\n",
        "LIMIT\n",
        "  10"
      ],
      "execution_count": 0,
      "outputs": []
    },
    {
      "cell_type": "code",
      "metadata": {
        "id": "xoQTprlHPfi7",
        "colab_type": "code",
        "outputId": "3a855e9c-f815-4d64-c3df-48c978cd636b",
        "colab": {
          "base_uri": "https://localhost:8080/",
          "height": 359
        }
      },
      "source": [
        "Successful_crew_members"
      ],
      "execution_count": 0,
      "outputs": [
        {
          "output_type": "execute_result",
          "data": {
            "text/html": [
              "<div>\n",
              "<style scoped>\n",
              "    .dataframe tbody tr th:only-of-type {\n",
              "        vertical-align: middle;\n",
              "    }\n",
              "\n",
              "    .dataframe tbody tr th {\n",
              "        vertical-align: top;\n",
              "    }\n",
              "\n",
              "    .dataframe thead th {\n",
              "        text-align: right;\n",
              "    }\n",
              "</style>\n",
              "<table border=\"1\" class=\"dataframe\">\n",
              "  <thead>\n",
              "    <tr style=\"text-align: right;\">\n",
              "      <th></th>\n",
              "      <th>primaryName</th>\n",
              "      <th>avg_score</th>\n",
              "      <th>primaryprofession</th>\n",
              "      <th>Experience</th>\n",
              "    </tr>\n",
              "  </thead>\n",
              "  <tbody>\n",
              "    <tr>\n",
              "      <th>0</th>\n",
              "      <td>Juliann Halili</td>\n",
              "      <td>10.0</td>\n",
              "      <td>writer</td>\n",
              "      <td>1</td>\n",
              "    </tr>\n",
              "    <tr>\n",
              "      <th>1</th>\n",
              "      <td>Michael Pasquariello</td>\n",
              "      <td>10.0</td>\n",
              "      <td>editor,producer</td>\n",
              "      <td>1</td>\n",
              "    </tr>\n",
              "    <tr>\n",
              "      <th>2</th>\n",
              "      <td>Brandon Ross</td>\n",
              "      <td>10.0</td>\n",
              "      <td>actor</td>\n",
              "      <td>1</td>\n",
              "    </tr>\n",
              "    <tr>\n",
              "      <th>3</th>\n",
              "      <td>Alain Laforest</td>\n",
              "      <td>10.0</td>\n",
              "      <td>actor</td>\n",
              "      <td>1</td>\n",
              "    </tr>\n",
              "    <tr>\n",
              "      <th>4</th>\n",
              "      <td>Juraj Barlek</td>\n",
              "      <td>10.0</td>\n",
              "      <td>None</td>\n",
              "      <td>1</td>\n",
              "    </tr>\n",
              "    <tr>\n",
              "      <th>5</th>\n",
              "      <td>Daniel A. Robinson</td>\n",
              "      <td>10.0</td>\n",
              "      <td>actor</td>\n",
              "      <td>1</td>\n",
              "    </tr>\n",
              "    <tr>\n",
              "      <th>6</th>\n",
              "      <td>Romeo Kattookaran</td>\n",
              "      <td>10.0</td>\n",
              "      <td>actor,producer,director</td>\n",
              "      <td>1</td>\n",
              "    </tr>\n",
              "    <tr>\n",
              "      <th>7</th>\n",
              "      <td>Akram Joseph</td>\n",
              "      <td>10.0</td>\n",
              "      <td>actor,writer,producer</td>\n",
              "      <td>1</td>\n",
              "    </tr>\n",
              "    <tr>\n",
              "      <th>8</th>\n",
              "      <td>Alen Alexander Klaric</td>\n",
              "      <td>10.0</td>\n",
              "      <td>actor</td>\n",
              "      <td>1</td>\n",
              "    </tr>\n",
              "    <tr>\n",
              "      <th>9</th>\n",
              "      <td>John Zulovitz</td>\n",
              "      <td>10.0</td>\n",
              "      <td>writer</td>\n",
              "      <td>1</td>\n",
              "    </tr>\n",
              "  </tbody>\n",
              "</table>\n",
              "</div>"
            ],
            "text/plain": [
              "             primaryName  avg_score        primaryprofession  Experience\n",
              "0         Juliann Halili       10.0                   writer           1\n",
              "1   Michael Pasquariello       10.0          editor,producer           1\n",
              "2           Brandon Ross       10.0                    actor           1\n",
              "3         Alain Laforest       10.0                    actor           1\n",
              "4           Juraj Barlek       10.0                     None           1\n",
              "5     Daniel A. Robinson       10.0                    actor           1\n",
              "6      Romeo Kattookaran       10.0  actor,producer,director           1\n",
              "7           Akram Joseph       10.0    actor,writer,producer           1\n",
              "8  Alen Alexander Klaric       10.0                    actor           1\n",
              "9          John Zulovitz       10.0                   writer           1"
            ]
          },
          "metadata": {
            "tags": []
          },
          "execution_count": 151
        }
      ]
    },
    {
      "cell_type": "markdown",
      "metadata": {
        "id": "wlguwyQpP7tE",
        "colab_type": "text"
      },
      "source": [
        "---\n",
        "\n",
        "These crew members have all received an average score of 10.0 for their work. However, these Crew members may not all be experienced and consistently successful. Hence, we will narrow this list down by filtering out people with less than 20 Titles of Work to their name \n",
        "\n",
        "---"
      ]
    },
    {
      "cell_type": "code",
      "metadata": {
        "id": "NeGnvWReQm-o",
        "colab_type": "code",
        "colab": {}
      },
      "source": [
        "  %%bigquery --project $project_id Successful_experienced_crew_members\n",
        "SELECT\n",
        "  nb.primaryName,\n",
        "  ROUND(AVG(tr.average_rating),2) avg_score,\n",
        "  nb.primaryprofession,\n",
        "  COUNT(distinct(tr.tconst)) Experience\n",
        "FROM\n",
        "  `cs-145-p3.kaggle_imdb_title_basics_tsv_gz.title_principle_data` tp,\n",
        "  `cs-145-p3.kaggle_imdb_title_basics_tsv_gz.name_basic` nb,\n",
        "  `cs-145-p3.kaggle_imdb_title_basics_tsv_gz.titles_ratings` tr\n",
        "WHERE\n",
        "  nb.nconst = tp.nconst\n",
        "  AND tr.tconst = tp.tconst\n",
        "GROUP BY\n",
        "  nb.primaryName,\n",
        "  nb.primaryprofession\n",
        "HAVING\n",
        "  COUNT(distinct(tr.tconst)) >= 20\n",
        "ORDER BY\n",
        "  avg_score DESC,\n",
        "  Experience DESC\n",
        "LIMIT\n",
        "  10"
      ],
      "execution_count": 0,
      "outputs": []
    },
    {
      "cell_type": "code",
      "metadata": {
        "id": "QnnMFYXtQukh",
        "colab_type": "code",
        "outputId": "1111b5a7-bd2e-434e-c457-6a8ba02c8313",
        "colab": {
          "base_uri": "https://localhost:8080/",
          "height": 359
        }
      },
      "source": [
        "Successful_experienced_crew_members"
      ],
      "execution_count": 0,
      "outputs": [
        {
          "output_type": "execute_result",
          "data": {
            "text/html": [
              "<div>\n",
              "<style scoped>\n",
              "    .dataframe tbody tr th:only-of-type {\n",
              "        vertical-align: middle;\n",
              "    }\n",
              "\n",
              "    .dataframe tbody tr th {\n",
              "        vertical-align: top;\n",
              "    }\n",
              "\n",
              "    .dataframe thead th {\n",
              "        text-align: right;\n",
              "    }\n",
              "</style>\n",
              "<table border=\"1\" class=\"dataframe\">\n",
              "  <thead>\n",
              "    <tr style=\"text-align: right;\">\n",
              "      <th></th>\n",
              "      <th>primaryName</th>\n",
              "      <th>avg_score</th>\n",
              "      <th>primaryprofession</th>\n",
              "      <th>Experience</th>\n",
              "    </tr>\n",
              "  </thead>\n",
              "  <tbody>\n",
              "    <tr>\n",
              "      <th>0</th>\n",
              "      <td>Rina Chakraborty</td>\n",
              "      <td>10.00</td>\n",
              "      <td>actress</td>\n",
              "      <td>39</td>\n",
              "    </tr>\n",
              "    <tr>\n",
              "      <th>1</th>\n",
              "      <td>David Gordon</td>\n",
              "      <td>9.99</td>\n",
              "      <td>writer,actor</td>\n",
              "      <td>414</td>\n",
              "    </tr>\n",
              "    <tr>\n",
              "      <th>2</th>\n",
              "      <td>Thanasis Tachtsidis</td>\n",
              "      <td>9.99</td>\n",
              "      <td>actor,director,writer</td>\n",
              "      <td>105</td>\n",
              "    </tr>\n",
              "    <tr>\n",
              "      <th>3</th>\n",
              "      <td>Maurice Carpede</td>\n",
              "      <td>9.98</td>\n",
              "      <td>actor</td>\n",
              "      <td>474</td>\n",
              "    </tr>\n",
              "    <tr>\n",
              "      <th>4</th>\n",
              "      <td>Prateek Shah</td>\n",
              "      <td>9.98</td>\n",
              "      <td>director</td>\n",
              "      <td>60</td>\n",
              "    </tr>\n",
              "    <tr>\n",
              "      <th>5</th>\n",
              "      <td>Zakeeya Patel</td>\n",
              "      <td>9.97</td>\n",
              "      <td>actress</td>\n",
              "      <td>148</td>\n",
              "    </tr>\n",
              "    <tr>\n",
              "      <th>6</th>\n",
              "      <td>Faye Peters</td>\n",
              "      <td>9.96</td>\n",
              "      <td>actress,producer</td>\n",
              "      <td>1424</td>\n",
              "    </tr>\n",
              "    <tr>\n",
              "      <th>7</th>\n",
              "      <td>Tyrone Keogh</td>\n",
              "      <td>9.96</td>\n",
              "      <td>actor,art_department,assistant_director</td>\n",
              "      <td>412</td>\n",
              "    </tr>\n",
              "    <tr>\n",
              "      <th>8</th>\n",
              "      <td>Hayley Owen</td>\n",
              "      <td>9.96</td>\n",
              "      <td>actress</td>\n",
              "      <td>241</td>\n",
              "    </tr>\n",
              "    <tr>\n",
              "      <th>9</th>\n",
              "      <td>Alpesh Dhakan</td>\n",
              "      <td>9.96</td>\n",
              "      <td>actor</td>\n",
              "      <td>55</td>\n",
              "    </tr>\n",
              "  </tbody>\n",
              "</table>\n",
              "</div>"
            ],
            "text/plain": [
              "           primaryName  ...  Experience\n",
              "0     Rina Chakraborty  ...          39\n",
              "1         David Gordon  ...         414\n",
              "2  Thanasis Tachtsidis  ...         105\n",
              "3      Maurice Carpede  ...         474\n",
              "4         Prateek Shah  ...          60\n",
              "5        Zakeeya Patel  ...         148\n",
              "6          Faye Peters  ...        1424\n",
              "7         Tyrone Keogh  ...         412\n",
              "8          Hayley Owen  ...         241\n",
              "9        Alpesh Dhakan  ...          55\n",
              "\n",
              "[10 rows x 4 columns]"
            ]
          },
          "metadata": {
            "tags": []
          },
          "execution_count": 153
        }
      ]
    },
    {
      "cell_type": "markdown",
      "metadata": {
        "id": "hvk8E72xQn-V",
        "colab_type": "text"
      },
      "source": [
        "We might recognize a few names on this list. However, this list is biased towards TV shows, since a TV show might have actors having varying performance from episode to episode but only one rating overall. \n",
        "\n",
        "We focus our attention to movies, where the rating is more atomic - one rating per performance. Hence, in the next step, we filter out the Titles that are not movies to find successful movie Crew members. "
      ]
    },
    {
      "cell_type": "code",
      "metadata": {
        "id": "bmJtTagfUd_2",
        "colab_type": "code",
        "colab": {}
      },
      "source": [
        "  %%bigquery --project $project_id Successful_experienced_movie_crew_members\n",
        "SELECT\n",
        "  nb.primaryName,\n",
        "  ROUND(AVG(tr.average_rating),2) avg_score,\n",
        "  nb.primaryprofession,\n",
        "  COUNT(distinct(tr.tconst)) Experience\n",
        "FROM\n",
        "  `cs-145-p3.kaggle_imdb_title_basics_tsv_gz.title_principle_data` tp,\n",
        "  `cs-145-p3.kaggle_imdb_title_basics_tsv_gz.name_basic` nb,\n",
        "  `cs-145-p3.kaggle_imdb_title_basics_tsv_gz.titles_ratings` tr,\n",
        "  `cs-145-p3.kaggle_imdb_title_basics_tsv_gz.title_basic` tb\n",
        "WHERE\n",
        "  nb.nconst = tp.nconst\n",
        "  AND tr.tconst = tp.tconst\n",
        "  AND tr.tconst = tb.tconst\n",
        "  AND tb.titleType = 'movie'\n",
        "GROUP BY\n",
        "  nb.primaryName,\n",
        "  nb.primaryprofession\n",
        "HAVING\n",
        "  COUNT(distinct(tr.tconst)) >= 20\n",
        "ORDER BY\n",
        "  avg_score DESC,\n",
        "  Experience DESC\n",
        "LIMIT\n",
        "  10"
      ],
      "execution_count": 0,
      "outputs": []
    },
    {
      "cell_type": "code",
      "metadata": {
        "id": "VID-Q-zrUxgA",
        "colab_type": "code",
        "outputId": "b176fd52-9b03-41a4-bae6-0ba6c580ce17",
        "colab": {
          "base_uri": "https://localhost:8080/",
          "height": 359
        }
      },
      "source": [
        "Successful_experienced_movie_crew_members"
      ],
      "execution_count": 0,
      "outputs": [
        {
          "output_type": "execute_result",
          "data": {
            "text/html": [
              "<div>\n",
              "<style scoped>\n",
              "    .dataframe tbody tr th:only-of-type {\n",
              "        vertical-align: middle;\n",
              "    }\n",
              "\n",
              "    .dataframe tbody tr th {\n",
              "        vertical-align: top;\n",
              "    }\n",
              "\n",
              "    .dataframe thead th {\n",
              "        text-align: right;\n",
              "    }\n",
              "</style>\n",
              "<table border=\"1\" class=\"dataframe\">\n",
              "  <thead>\n",
              "    <tr style=\"text-align: right;\">\n",
              "      <th></th>\n",
              "      <th>primaryName</th>\n",
              "      <th>avg_score</th>\n",
              "      <th>primaryprofession</th>\n",
              "      <th>Experience</th>\n",
              "    </tr>\n",
              "  </thead>\n",
              "  <tbody>\n",
              "    <tr>\n",
              "      <th>0</th>\n",
              "      <td>Dhorairaj Bhagavan</td>\n",
              "      <td>8.12</td>\n",
              "      <td>director,cinematographer,writer</td>\n",
              "      <td>22</td>\n",
              "    </tr>\n",
              "    <tr>\n",
              "      <th>1</th>\n",
              "      <td>Rajkumar</td>\n",
              "      <td>8.09</td>\n",
              "      <td>actor,music_department,soundtrack</td>\n",
              "      <td>206</td>\n",
              "    </tr>\n",
              "    <tr>\n",
              "      <th>2</th>\n",
              "      <td>Balkrishna</td>\n",
              "      <td>8.02</td>\n",
              "      <td>actor,costume_department,director</td>\n",
              "      <td>103</td>\n",
              "    </tr>\n",
              "    <tr>\n",
              "      <th>3</th>\n",
              "      <td>Udaya Kumar</td>\n",
              "      <td>7.99</td>\n",
              "      <td>actor,art_department</td>\n",
              "      <td>46</td>\n",
              "    </tr>\n",
              "    <tr>\n",
              "      <th>4</th>\n",
              "      <td>T.R. Narasimharaju</td>\n",
              "      <td>7.96</td>\n",
              "      <td>actor</td>\n",
              "      <td>38</td>\n",
              "    </tr>\n",
              "    <tr>\n",
              "      <th>5</th>\n",
              "      <td>Ashwath</td>\n",
              "      <td>7.95</td>\n",
              "      <td>actor</td>\n",
              "      <td>70</td>\n",
              "    </tr>\n",
              "    <tr>\n",
              "      <th>6</th>\n",
              "      <td>R. Madhusudhan</td>\n",
              "      <td>7.95</td>\n",
              "      <td>cinematographer</td>\n",
              "      <td>21</td>\n",
              "    </tr>\n",
              "    <tr>\n",
              "      <th>7</th>\n",
              "      <td>Arathi</td>\n",
              "      <td>7.87</td>\n",
              "      <td>actress,producer</td>\n",
              "      <td>35</td>\n",
              "    </tr>\n",
              "    <tr>\n",
              "      <th>8</th>\n",
              "      <td>Dulal Dutta</td>\n",
              "      <td>7.79</td>\n",
              "      <td>editor,editorial_department,sound_department</td>\n",
              "      <td>41</td>\n",
              "    </tr>\n",
              "    <tr>\n",
              "      <th>9</th>\n",
              "      <td>Bulbul Ahmed</td>\n",
              "      <td>7.79</td>\n",
              "      <td>actor,director,writer</td>\n",
              "      <td>20</td>\n",
              "    </tr>\n",
              "  </tbody>\n",
              "</table>\n",
              "</div>"
            ],
            "text/plain": [
              "          primaryName  ...  Experience\n",
              "0  Dhorairaj Bhagavan  ...          22\n",
              "1            Rajkumar  ...         206\n",
              "2          Balkrishna  ...         103\n",
              "3         Udaya Kumar  ...          46\n",
              "4  T.R. Narasimharaju  ...          38\n",
              "5             Ashwath  ...          70\n",
              "6      R. Madhusudhan  ...          21\n",
              "7              Arathi  ...          35\n",
              "8         Dulal Dutta  ...          41\n",
              "9        Bulbul Ahmed  ...          20\n",
              "\n",
              "[10 rows x 4 columns]"
            ]
          },
          "metadata": {
            "tags": []
          },
          "execution_count": 155
        }
      ]
    },
    {
      "cell_type": "markdown",
      "metadata": {
        "id": "VFNRq6PxUzbP",
        "colab_type": "text"
      },
      "source": [
        "---\n",
        "\n",
        "Interestingly, all these names are South Asian names, which reflects the booming film and media industry there. These names do seem to be rather unfamiliar in the context of Hollywood. Hence, we will localize our search to films that are released in the US. \n",
        "\n",
        "---"
      ]
    },
    {
      "cell_type": "code",
      "metadata": {
        "id": "QOu7QPSBVHar",
        "colab_type": "code",
        "colab": {}
      },
      "source": [
        "  %%bigquery --project $project_id Successful_experienced_us_movie_crew_members\n",
        "WITH\n",
        "  subq1 AS (\n",
        "  SELECT\n",
        "    DISTINCT(tr.tconst) Works,\n",
        "    nb.primaryName PN1,\n",
        "    nb.primaryprofession Prof\n",
        "  FROM\n",
        "    `cs-145-p3.kaggle_imdb_title_basics_tsv_gz.title_principle_data` tp,\n",
        "    `cs-145-p3.kaggle_imdb_title_basics_tsv_gz.name_basic` nb,\n",
        "    `cs-145-p3.kaggle_imdb_title_basics_tsv_gz.titles_ratings` tr,\n",
        "    `cs-145-p3.kaggle_imdb_title_basics_tsv_gz.title_basic` tb,\n",
        "    `cs-145-p3.kaggle_imdb_title_basics_tsv_gz.title_akas` ta\n",
        "  WHERE\n",
        "    nb.nconst = tp.nconst\n",
        "    AND tr.tconst = ta.titleid\n",
        "    AND tr.tconst = tp.tconst\n",
        "    AND tr.tconst = tb.tconst\n",
        "    AND tb.titleType = 'movie'\n",
        "    AND ta.region = 'US' ) (\n",
        "  SELECT\n",
        "    COUNT(Works) Experience,\n",
        "    subq1.PN1 Persons_Name,\n",
        "    ROUND(AVG(tr.average_rating),2) Average_Rating,\n",
        "    subq1.Prof\n",
        "  FROM\n",
        "    subq1,\n",
        "    `cs-145-p3.kaggle_imdb_title_basics_tsv_gz.titles_ratings` tr\n",
        "  WHERE\n",
        "    subq1.Works = tr.tconst\n",
        "  GROUP BY\n",
        "    subq1.PN1,\n",
        "    subq1.Prof\n",
        "  HAVING\n",
        "    Experience > 20\n",
        "  ORDER BY\n",
        "    Average_Rating DESC,\n",
        "    Experience DESC\n",
        "  LIMIT \n",
        "  10\n",
        "    )\n"
      ],
      "execution_count": 0,
      "outputs": []
    },
    {
      "cell_type": "code",
      "metadata": {
        "id": "B7jeAArrVFbt",
        "colab_type": "code",
        "outputId": "39386943-2bfa-462f-99eb-048da8b79668",
        "colab": {
          "base_uri": "https://localhost:8080/",
          "height": 359
        }
      },
      "source": [
        "Successful_experienced_us_movie_crew_members"
      ],
      "execution_count": 0,
      "outputs": [
        {
          "output_type": "execute_result",
          "data": {
            "text/html": [
              "<div>\n",
              "<style scoped>\n",
              "    .dataframe tbody tr th:only-of-type {\n",
              "        vertical-align: middle;\n",
              "    }\n",
              "\n",
              "    .dataframe tbody tr th {\n",
              "        vertical-align: top;\n",
              "    }\n",
              "\n",
              "    .dataframe thead th {\n",
              "        text-align: right;\n",
              "    }\n",
              "</style>\n",
              "<table border=\"1\" class=\"dataframe\">\n",
              "  <thead>\n",
              "    <tr style=\"text-align: right;\">\n",
              "      <th></th>\n",
              "      <th>Experience</th>\n",
              "      <th>Persons_Name</th>\n",
              "      <th>Average_Rating</th>\n",
              "      <th>Prof</th>\n",
              "    </tr>\n",
              "  </thead>\n",
              "  <tbody>\n",
              "    <tr>\n",
              "      <th>0</th>\n",
              "      <td>26</td>\n",
              "      <td>The Dalai Lama</td>\n",
              "      <td>7.89</td>\n",
              "      <td>miscellaneous</td>\n",
              "    </tr>\n",
              "    <tr>\n",
              "      <th>1</th>\n",
              "      <td>24</td>\n",
              "      <td>Vicente Franco</td>\n",
              "      <td>7.72</td>\n",
              "      <td>cinematographer,camera_department,director</td>\n",
              "    </tr>\n",
              "    <tr>\n",
              "      <th>2</th>\n",
              "      <td>24</td>\n",
              "      <td>William Higgins</td>\n",
              "      <td>7.69</td>\n",
              "      <td>director,producer,writer</td>\n",
              "    </tr>\n",
              "    <tr>\n",
              "      <th>3</th>\n",
              "      <td>21</td>\n",
              "      <td>Joe Hisaishi</td>\n",
              "      <td>7.61</td>\n",
              "      <td>composer,music_department,soundtrack</td>\n",
              "    </tr>\n",
              "    <tr>\n",
              "      <th>4</th>\n",
              "      <td>22</td>\n",
              "      <td>Joan Baez</td>\n",
              "      <td>7.52</td>\n",
              "      <td>soundtrack,music_department,actress</td>\n",
              "    </tr>\n",
              "    <tr>\n",
              "      <th>5</th>\n",
              "      <td>22</td>\n",
              "      <td>Gil Talmi</td>\n",
              "      <td>7.51</td>\n",
              "      <td>composer,music_department,soundtrack</td>\n",
              "    </tr>\n",
              "    <tr>\n",
              "      <th>6</th>\n",
              "      <td>21</td>\n",
              "      <td>Yoshikata Yoda</td>\n",
              "      <td>7.50</td>\n",
              "      <td>writer</td>\n",
              "    </tr>\n",
              "    <tr>\n",
              "      <th>7</th>\n",
              "      <td>34</td>\n",
              "      <td>Tatsuya Nakadai</td>\n",
              "      <td>7.49</td>\n",
              "      <td>actor</td>\n",
              "    </tr>\n",
              "    <tr>\n",
              "      <th>8</th>\n",
              "      <td>24</td>\n",
              "      <td>Quentin Tarantino</td>\n",
              "      <td>7.49</td>\n",
              "      <td>writer,actor,producer</td>\n",
              "    </tr>\n",
              "    <tr>\n",
              "      <th>9</th>\n",
              "      <td>30</td>\n",
              "      <td>Mark Monroe</td>\n",
              "      <td>7.48</td>\n",
              "      <td>writer,producer,actor</td>\n",
              "    </tr>\n",
              "  </tbody>\n",
              "</table>\n",
              "</div>"
            ],
            "text/plain": [
              "   Experience  ...                                        Prof\n",
              "0          26  ...                               miscellaneous\n",
              "1          24  ...  cinematographer,camera_department,director\n",
              "2          24  ...                    director,producer,writer\n",
              "3          21  ...        composer,music_department,soundtrack\n",
              "4          22  ...         soundtrack,music_department,actress\n",
              "5          22  ...        composer,music_department,soundtrack\n",
              "6          21  ...                                      writer\n",
              "7          34  ...                                       actor\n",
              "8          24  ...                       writer,actor,producer\n",
              "9          30  ...                       writer,producer,actor\n",
              "\n",
              "[10 rows x 4 columns]"
            ]
          },
          "metadata": {
            "tags": []
          },
          "execution_count": 157
        }
      ]
    },
    {
      "cell_type": "markdown",
      "metadata": {
        "id": "XS9uZm2SV624",
        "colab_type": "text"
      },
      "source": [
        "---\n",
        "\n",
        "There is an interesting appearence by his Holiness the Dalai Lama in this query of successful and experienced Movie Crew Members! We might recognize his holiness from the Werner Herzog documentary 'Wheel of Time' but his consistency and high rating is remarkable. We also see an appearance by Rock and Roll Hall of Famer Joan Baez. With the Lama and Joan behind us, we can attest to be on the right track. \n",
        "\n",
        "Now, suppose we want a list of only actors and actresses, who are common household names. We will first filter only for actors, along the condition that they shuold be born after 1960.\n",
        "\n",
        "---"
      ]
    },
    {
      "cell_type": "code",
      "metadata": {
        "id": "7EpcZZq8Jryh",
        "colab_type": "code",
        "colab": {}
      },
      "source": [
        "%%bigquery --project $project_id Successful_us_actors\n",
        "\n",
        "WITH\n",
        "  subq1 AS (\n",
        "  SELECT\n",
        "    DISTINCT(tr.tconst) Works,\n",
        "    nb.primaryName PN1,\n",
        "    nb.primaryprofession Prof\n",
        "  FROM\n",
        "    `cs-145-p3.kaggle_imdb_title_basics_tsv_gz.title_principle_data` tp,\n",
        "    `cs-145-p3.kaggle_imdb_title_basics_tsv_gz.name_basic` nb,\n",
        "    `cs-145-p3.kaggle_imdb_title_basics_tsv_gz.titles_ratings` tr,\n",
        "    `cs-145-p3.kaggle_imdb_title_basics_tsv_gz.title_basic` tb,\n",
        "    `cs-145-p3.kaggle_imdb_title_basics_tsv_gz.title_akas` ta\n",
        "  WHERE\n",
        "    nb.nconst = tp.nconst\n",
        "    AND tr.tconst = ta.titleid\n",
        "    AND tr.tconst = tp.tconst\n",
        "    AND tr.tconst = tb.tconst\n",
        "    AND tb.titleType = 'movie'\n",
        "    AND ta.region = 'US' \n",
        "    AND (tp.category = 'actor'\n",
        "    OR  tp.category = 'actress')\n",
        "    AND nb.birthYear > \"1960\"\n",
        "    AND nb.deathYear IS NULL) (\n",
        "  SELECT\n",
        "    COUNT(Works) Experience,\n",
        "    subq1.PN1 Persons_Name,\n",
        "    ROUND(AVG(tr.average_rating),2) Average_Rating,\n",
        "    subq1.Prof\n",
        "  FROM\n",
        "    subq1,\n",
        "    `cs-145-p3.kaggle_imdb_title_basics_tsv_gz.titles_ratings` tr\n",
        "  WHERE\n",
        "    subq1.Works = tr.tconst\n",
        "  GROUP BY\n",
        "    subq1.PN1,\n",
        "    subq1.Prof\n",
        "  HAVING\n",
        "    Experience > 20\n",
        "  ORDER BY\n",
        "    Average_Rating DESC,\n",
        "    Experience DESC\n",
        "  LIMIT \n",
        "  10\n",
        "    )"
      ],
      "execution_count": 0,
      "outputs": []
    },
    {
      "cell_type": "code",
      "metadata": {
        "id": "jiIG7SxeJ3JA",
        "colab_type": "code",
        "outputId": "f00a513b-d93d-4064-be8d-93c611888496",
        "colab": {
          "base_uri": "https://localhost:8080/",
          "height": 359
        }
      },
      "source": [
        "Successful_us_actors"
      ],
      "execution_count": 0,
      "outputs": [
        {
          "output_type": "execute_result",
          "data": {
            "text/html": [
              "<div>\n",
              "<style scoped>\n",
              "    .dataframe tbody tr th:only-of-type {\n",
              "        vertical-align: middle;\n",
              "    }\n",
              "\n",
              "    .dataframe tbody tr th {\n",
              "        vertical-align: top;\n",
              "    }\n",
              "\n",
              "    .dataframe thead th {\n",
              "        text-align: right;\n",
              "    }\n",
              "</style>\n",
              "<table border=\"1\" class=\"dataframe\">\n",
              "  <thead>\n",
              "    <tr style=\"text-align: right;\">\n",
              "      <th></th>\n",
              "      <th>Experience</th>\n",
              "      <th>Persons_Name</th>\n",
              "      <th>Average_Rating</th>\n",
              "      <th>Prof</th>\n",
              "    </tr>\n",
              "  </thead>\n",
              "  <tbody>\n",
              "    <tr>\n",
              "      <th>0</th>\n",
              "      <td>27</td>\n",
              "      <td>Leonardo DiCaprio</td>\n",
              "      <td>7.40</td>\n",
              "      <td>actor,producer,writer</td>\n",
              "    </tr>\n",
              "    <tr>\n",
              "      <th>1</th>\n",
              "      <td>22</td>\n",
              "      <td>Edward Norton</td>\n",
              "      <td>7.10</td>\n",
              "      <td>actor,producer,writer</td>\n",
              "    </tr>\n",
              "    <tr>\n",
              "      <th>2</th>\n",
              "      <td>34</td>\n",
              "      <td>Christian Bale</td>\n",
              "      <td>7.08</td>\n",
              "      <td>actor,editorial_department,producer</td>\n",
              "    </tr>\n",
              "    <tr>\n",
              "      <th>3</th>\n",
              "      <td>25</td>\n",
              "      <td>Christy Canyon</td>\n",
              "      <td>7.08</td>\n",
              "      <td>actress,miscellaneous</td>\n",
              "    </tr>\n",
              "    <tr>\n",
              "      <th>4</th>\n",
              "      <td>24</td>\n",
              "      <td>Ryan Gosling</td>\n",
              "      <td>7.07</td>\n",
              "      <td>actor,soundtrack,producer</td>\n",
              "    </tr>\n",
              "    <tr>\n",
              "      <th>5</th>\n",
              "      <td>41</td>\n",
              "      <td>Brad Pitt</td>\n",
              "      <td>7.03</td>\n",
              "      <td>actor,producer,soundtrack</td>\n",
              "    </tr>\n",
              "    <tr>\n",
              "      <th>6</th>\n",
              "      <td>29</td>\n",
              "      <td>Jake Gyllenhaal</td>\n",
              "      <td>7.03</td>\n",
              "      <td>actor,producer,camera_department</td>\n",
              "    </tr>\n",
              "    <tr>\n",
              "      <th>7</th>\n",
              "      <td>29</td>\n",
              "      <td>Kate Winslet</td>\n",
              "      <td>6.99</td>\n",
              "      <td>actress,soundtrack</td>\n",
              "    </tr>\n",
              "    <tr>\n",
              "      <th>8</th>\n",
              "      <td>24</td>\n",
              "      <td>Don Cheadle</td>\n",
              "      <td>6.99</td>\n",
              "      <td>actor,producer,soundtrack</td>\n",
              "    </tr>\n",
              "    <tr>\n",
              "      <th>9</th>\n",
              "      <td>30</td>\n",
              "      <td>Joaquin Phoenix</td>\n",
              "      <td>6.97</td>\n",
              "      <td>actor,producer,soundtrack</td>\n",
              "    </tr>\n",
              "  </tbody>\n",
              "</table>\n",
              "</div>"
            ],
            "text/plain": [
              "   Experience  ...                                 Prof\n",
              "0          27  ...                actor,producer,writer\n",
              "1          22  ...                actor,producer,writer\n",
              "2          34  ...  actor,editorial_department,producer\n",
              "3          25  ...                actress,miscellaneous\n",
              "4          24  ...            actor,soundtrack,producer\n",
              "5          41  ...            actor,producer,soundtrack\n",
              "6          29  ...     actor,producer,camera_department\n",
              "7          29  ...                   actress,soundtrack\n",
              "8          24  ...            actor,producer,soundtrack\n",
              "9          30  ...            actor,producer,soundtrack\n",
              "\n",
              "[10 rows x 4 columns]"
            ]
          },
          "metadata": {
            "tags": []
          },
          "execution_count": 159
        }
      ]
    },
    {
      "cell_type": "markdown",
      "metadata": {
        "id": "hL1tQ3uqZ_MJ",
        "colab_type": "text"
      },
      "source": [
        "---\n",
        "\n",
        "We found Leo! And Ryan Gosling, Joaquin Phoenix and Edward Norton of Fight Club fame. What about the legends. In addition to being born after 1960,who are the legends of Cinema and have appeared in more than 50 films?\n",
        "\n",
        "---"
      ]
    },
    {
      "cell_type": "code",
      "metadata": {
        "id": "vQ8zHo8XZ8No",
        "colab_type": "code",
        "colab": {}
      },
      "source": [
        "%%bigquery --project $project_id legendary_us_actors\n",
        "\n",
        "WITH\n",
        "  subq1 AS (\n",
        "  SELECT\n",
        "    DISTINCT(tr.tconst) Works,\n",
        "    nb.primaryName PN1,\n",
        "    nb.primaryprofession Prof\n",
        "  FROM\n",
        "    `cs-145-p3.kaggle_imdb_title_basics_tsv_gz.title_principle_data` tp,\n",
        "    `cs-145-p3.kaggle_imdb_title_basics_tsv_gz.name_basic` nb,\n",
        "    `cs-145-p3.kaggle_imdb_title_basics_tsv_gz.titles_ratings` tr,\n",
        "    `cs-145-p3.kaggle_imdb_title_basics_tsv_gz.title_basic` tb,\n",
        "    `cs-145-p3.kaggle_imdb_title_basics_tsv_gz.title_akas` ta\n",
        "  WHERE\n",
        "    nb.nconst = tp.nconst\n",
        "    AND tr.tconst = ta.titleid\n",
        "    AND tr.tconst = tp.tconst\n",
        "    AND tr.tconst = tb.tconst\n",
        "    AND tb.titleType = 'movie'\n",
        "    AND ta.region = 'US' \n",
        "    AND (tp.category = 'actor'\n",
        "    OR  tp.category = 'actress')\n",
        "    AND nb.birthYear > \"1960\"\n",
        "    AND nb.deathYear IS NULL) (\n",
        "  SELECT\n",
        "    COUNT(Works) Experience,\n",
        "    subq1.PN1 Persons_Name,\n",
        "    ROUND(AVG(tr.average_rating),2) Average_Rating,\n",
        "    subq1.Prof\n",
        "  FROM\n",
        "    subq1,\n",
        "    `cs-145-p3.kaggle_imdb_title_basics_tsv_gz.titles_ratings` tr\n",
        "  WHERE\n",
        "    subq1.Works = tr.tconst\n",
        "  GROUP BY\n",
        "    subq1.PN1,\n",
        "    subq1.Prof\n",
        "  HAVING\n",
        "    Experience > 50\n",
        "  ORDER BY\n",
        "    Average_Rating DESC,\n",
        "    Experience DESC\n",
        "  LIMIT \n",
        "  10\n",
        "    )"
      ],
      "execution_count": 0,
      "outputs": []
    },
    {
      "cell_type": "code",
      "metadata": {
        "id": "G9g-29wReLvY",
        "colab_type": "code",
        "outputId": "a833127c-fc67-415f-9de8-b93b8f762a92",
        "colab": {
          "base_uri": "https://localhost:8080/",
          "height": 297
        }
      },
      "source": [
        "legendary_us_actors"
      ],
      "execution_count": 0,
      "outputs": [
        {
          "output_type": "execute_result",
          "data": {
            "text/html": [
              "<div>\n",
              "<style scoped>\n",
              "    .dataframe tbody tr th:only-of-type {\n",
              "        vertical-align: middle;\n",
              "    }\n",
              "\n",
              "    .dataframe tbody tr th {\n",
              "        vertical-align: top;\n",
              "    }\n",
              "\n",
              "    .dataframe thead th {\n",
              "        text-align: right;\n",
              "    }\n",
              "</style>\n",
              "<table border=\"1\" class=\"dataframe\">\n",
              "  <thead>\n",
              "    <tr style=\"text-align: right;\">\n",
              "      <th></th>\n",
              "      <th>Experience</th>\n",
              "      <th>Persons_Name</th>\n",
              "      <th>Average_Rating</th>\n",
              "      <th>Prof</th>\n",
              "    </tr>\n",
              "  </thead>\n",
              "  <tbody>\n",
              "    <tr>\n",
              "      <th>0</th>\n",
              "      <td>52</td>\n",
              "      <td>Matt Damon</td>\n",
              "      <td>6.94</td>\n",
              "      <td>producer,actor,soundtrack</td>\n",
              "    </tr>\n",
              "    <tr>\n",
              "      <th>1</th>\n",
              "      <td>225</td>\n",
              "      <td>Tom Byron</td>\n",
              "      <td>6.31</td>\n",
              "      <td>actor,director,producer</td>\n",
              "    </tr>\n",
              "    <tr>\n",
              "      <th>2</th>\n",
              "      <td>53</td>\n",
              "      <td>John Cusack</td>\n",
              "      <td>6.24</td>\n",
              "      <td>actor,producer,writer</td>\n",
              "    </tr>\n",
              "    <tr>\n",
              "      <th>3</th>\n",
              "      <td>77</td>\n",
              "      <td>Nicolas Cage</td>\n",
              "      <td>5.91</td>\n",
              "      <td>actor,producer,soundtrack</td>\n",
              "    </tr>\n",
              "    <tr>\n",
              "      <th>4</th>\n",
              "      <td>63</td>\n",
              "      <td>James Franco</td>\n",
              "      <td>5.80</td>\n",
              "      <td>actor,producer,director</td>\n",
              "    </tr>\n",
              "    <tr>\n",
              "      <th>5</th>\n",
              "      <td>87</td>\n",
              "      <td>Tom Sizemore</td>\n",
              "      <td>5.14</td>\n",
              "      <td>actor,producer,writer</td>\n",
              "    </tr>\n",
              "    <tr>\n",
              "      <th>6</th>\n",
              "      <td>70</td>\n",
              "      <td>C. Thomas Howell</td>\n",
              "      <td>4.91</td>\n",
              "      <td>actor,producer,director</td>\n",
              "    </tr>\n",
              "    <tr>\n",
              "      <th>7</th>\n",
              "      <td>62</td>\n",
              "      <td>Debbie Rochon</td>\n",
              "      <td>4.65</td>\n",
              "      <td>actress,producer,writer</td>\n",
              "    </tr>\n",
              "  </tbody>\n",
              "</table>\n",
              "</div>"
            ],
            "text/plain": [
              "   Experience      Persons_Name  Average_Rating                       Prof\n",
              "0          52        Matt Damon            6.94  producer,actor,soundtrack\n",
              "1         225         Tom Byron            6.31    actor,director,producer\n",
              "2          53       John Cusack            6.24      actor,producer,writer\n",
              "3          77      Nicolas Cage            5.91  actor,producer,soundtrack\n",
              "4          63      James Franco            5.80    actor,producer,director\n",
              "5          87      Tom Sizemore            5.14      actor,producer,writer\n",
              "6          70  C. Thomas Howell            4.91    actor,producer,director\n",
              "7          62     Debbie Rochon            4.65    actress,producer,writer"
            ]
          },
          "metadata": {
            "tags": []
          },
          "execution_count": 161
        }
      ]
    },
    {
      "cell_type": "markdown",
      "metadata": {
        "id": "LdBJ5E80J2hh",
        "colab_type": "text"
      },
      "source": [
        "--- \n",
        "\n",
        "Who then are the stars of modern day cinema? This table above reflects the people whose work are the most highly rated. Johnny Depp, Matt Damon, Nick Cage and James Franco feature in this legendary list\n",
        "\n",
        "---"
      ]
    },
    {
      "cell_type": "markdown",
      "metadata": {
        "id": "dtEjQMQpKsty",
        "colab_type": "text"
      },
      "source": [
        "Next, we query the relationship between experience and avg_rating. Notice that we query a dataset called 'train'. This set was created for ML purposes, and contains all the features we are intersted in. We will query this dataset directly for these purposes to see the distribution between experience and rating received by the film they featured in."
      ]
    },
    {
      "cell_type": "code",
      "metadata": {
        "id": "55jsaHYiKSIc",
        "colab_type": "code",
        "colab": {}
      },
      "source": [
        "%%bigquery --project $project_id exp_rating\n",
        "SELECT\n",
        "  label avg_rating,\n",
        "  exp\n",
        "FROM\n",
        "  `cs-145-p3.kaggle_imdb_title_basics_tsv_gz.train`"
      ],
      "execution_count": 0,
      "outputs": []
    },
    {
      "cell_type": "code",
      "metadata": {
        "id": "uGQ5CEGkKqXW",
        "colab_type": "code",
        "outputId": "cb72fd0e-2628-4bc9-beb8-9a927c7c38f3",
        "colab": {
          "base_uri": "https://localhost:8080/",
          "height": 295
        }
      },
      "source": [
        "plt.scatter(y = exp_rating['avg_rating'], x = np.log10(exp_rating['exp']), s = .1)\n",
        "plt.title('Distribution of average rating received by a film against the experience of the crew')\n",
        "plt.xlabel('Log of The experience of the Crew member (defined as number of titles they shot)')\n",
        "plt.ylabel('The Average Rating received by the Title')\n",
        "plt.show()"
      ],
      "execution_count": 20,
      "outputs": [
        {
          "output_type": "display_data",
          "data": {
            "image/png": "[encoded data removed]",
            "text/plain": [
              "<Figure size 432x288 with 1 Axes>"
            ]
          },
          "metadata": {
            "tags": []
          }
        }
      ]
    },
    {
      "cell_type": "markdown",
      "metadata": {
        "id": "nMhHy4uMNxdw",
        "colab_type": "text"
      },
      "source": [
        "---\n",
        "\n",
        "Clearly, there are all levels of experience but we do observe an upward tilt along the edges - that is indicative of the fact that people with high levels of experience traditionally have high rating Titles. \n",
        "\n",
        "---"
      ]
    },
    {
      "cell_type": "code",
      "metadata": {
        "id": "v9JmNjogLTha",
        "colab_type": "code",
        "colab": {}
      },
      "source": [
        "%%bigquery --project $project_id age_rating\n",
        "SELECT\n",
        "  label avg_rating,\n",
        "  AGE\n",
        "FROM\n",
        "  `cs-145-p3.kaggle_imdb_title_basics_tsv_gz.train`\n",
        "WHERE AGE > 0 and AGE <= 100"
      ],
      "execution_count": 0,
      "outputs": []
    },
    {
      "cell_type": "code",
      "metadata": {
        "id": "fqzaGl2TLux7",
        "colab_type": "code",
        "outputId": "31932b33-9ff1-4d24-cd21-9da549f59c1f",
        "colab": {
          "base_uri": "https://localhost:8080/",
          "height": 295
        }
      },
      "source": [
        "plt.scatter(y = age_rating['avg_rating'], x = age_rating['AGE'], s = .1)\n",
        "plt.title('Distribution of average rating received by a film against the AGE of the crew member')\n",
        "plt.xlabel('The age of the Crew member when this Title was released')\n",
        "plt.ylabel('The Average Rating received by the Title')\n",
        "plt.show()"
      ],
      "execution_count": 21,
      "outputs": [
        {
          "output_type": "display_data",
          "data": {
            "image/png": "[encoded data removed]",
            "text/plain": [
              "<Figure size 432x288 with 1 Axes>"
            ]
          },
          "metadata": {
            "tags": []
          }
        }
      ]
    },
    {
      "cell_type": "markdown",
      "metadata": {
        "id": "_LWVc-j9ObWa",
        "colab_type": "text"
      },
      "source": [
        "---\n",
        "\n",
        "One might notice that there are two filters put in place. This is to avoid anomalies such as when 'William Shakespeare' for example or 'Dostoevsky' is cited as a Writer for the show. We consider this anomalous, as we do an age less than 0, which is proabbly erroneous interpretation of the data. \n",
        "\n",
        "From immedeate observation, one can see that the age group 20-40 with ratings all across the board. On the extreme older end,  you see some leaning towards higher rating. \n",
        "\n",
        "As a final exmaination, we browse the training set to see what the distribution is by genre. \n",
        "\n",
        "---"
      ]
    },
    {
      "cell_type": "code",
      "metadata": {
        "id": "kX28yy_4LaX_",
        "colab_type": "code",
        "colab": {}
      },
      "source": [
        "%%bigquery --project $project_id dist_genre\n",
        "SELECT\n",
        "COUNT(*) cnt, \n",
        "genre_split\n",
        "FROM\n",
        "  `cs-145-p3.kaggle_imdb_title_basics_tsv_gz.train`,\n",
        "  unnest(split(genres, ',')) genre_split  \n",
        "group by genre_split\n",
        "order by cnt desc"
      ],
      "execution_count": 0,
      "outputs": []
    },
    {
      "cell_type": "code",
      "metadata": {
        "id": "wJXSpSrKLugh",
        "colab_type": "code",
        "colab": {
          "base_uri": "https://localhost:8080/",
          "height": 353
        },
        "outputId": "c33f3ab0-3716-45c5-9674-d05c9de42537"
      },
      "source": [
        "plt.bar(height = np.log10(dist_genre['cnt']), x = dist_genre['genre_split'])\n",
        "plt.title('Distribution of movies in our training set by genre')\n",
        "plt.ylabel('Log of Number of Titles')\n",
        "plt.xlabel('Genre of Title')\n",
        "plt.xticks(rotation = 'vertical')\n",
        "plt.show()"
      ],
      "execution_count": 29,
      "outputs": [
        {
          "output_type": "display_data",
          "data": {
            "image/png": "[encoded data removed]",
            "text/plain": [
              "<Figure size 432x288 with 1 Axes>"
            ]
          },
          "metadata": {
            "tags": []
          }
        }
      ]
    },
    {
      "cell_type": "markdown",
      "metadata": {
        "id": "uOTnHYvQcGQA",
        "colab_type": "text"
      },
      "source": [
        "---\n",
        "\n",
        "We find that the distribution is relatively uniform amongst the different genres. To examine the average rating across these genres, to reflect the role genre plays in predicting ratings, we compute the distribution of ratings across the genres. \n",
        "\n",
        "---"
      ]
    },
    {
      "cell_type": "code",
      "metadata": {
        "id": "-HTPybDFi_8s",
        "colab_type": "code",
        "colab": {}
      },
      "source": [
        "%%bigquery --project $project_id rating_genre\n",
        "SELECT\n",
        "ROUND(AVG(label),2) avg_rating\n",
        ", \n",
        "genre_split\n",
        "FROM\n",
        "  `cs-145-p3.kaggle_imdb_title_basics_tsv_gz.train`,\n",
        "  unnest(split(genres, ',')) genre_split  \n",
        "group by genre_split\n",
        "order by avg_rating desc"
      ],
      "execution_count": 0,
      "outputs": []
    },
    {
      "cell_type": "code",
      "metadata": {
        "id": "teyb2WkBjKEI",
        "colab_type": "code",
        "colab": {
          "base_uri": "https://localhost:8080/",
          "height": 353
        },
        "outputId": "eba24c92-2649-41eb-c478-575efac3bca4"
      },
      "source": [
        "plt.bar(height = (rating_genre['avg_rating']), x = rating_genre['genre_split'])\n",
        "plt.title('Distribution of the average ratings of movies in our training set by genre')\n",
        "plt.ylabel('Average Rating out of 10')\n",
        "plt.xlabel('Genre of Title')\n",
        "plt.xticks(rotation = 'vertical')\n",
        "plt.show()"
      ],
      "execution_count": 32,
      "outputs": [
        {
          "output_type": "display_data",
          "data": {
            "image/png": "[encoded data removed]",
            "text/plain": [
              "<Figure size 432x288 with 1 Axes>"
            ]
          },
          "metadata": {
            "tags": []
          }
        }
      ]
    },
    {
      "cell_type": "markdown",
      "metadata": {
        "id": "eAzlOwqrjdp2",
        "colab_type": "text"
      },
      "source": [
        "---\n",
        "\n",
        "From this chart, it seems that some genres are more predictive of a higher rating than others. We thus pass the genres into our Machine Learning algorithm. \n",
        "\n",
        "---"
      ]
    },
    {
      "cell_type": "markdown",
      "metadata": {
        "id": "NhFSJifsiC1U",
        "colab_type": "text"
      },
      "source": [
        "## Data Prediction"
      ]
    },
    {
      "cell_type": "markdown",
      "metadata": {
        "id": "ofeY7XQuyhOU",
        "colab_type": "text"
      },
      "source": [
        "---\n",
        "\n",
        "In this task, we will train our algorithm on movies released before 2015 to predict ratings on movies released in 2015 (and evaluate our model on movies released after 2015). \n",
        "\n",
        "The objective is two-fold - the primary purpose is that what can we learn from the past about films - how successful the movie was, how many votes the movie received, how many languages to inform how successful movies released after 2015 are\n",
        "\n",
        "\n",
        "---"
      ]
    },
    {
      "cell_type": "code",
      "metadata": {
        "id": "HfwlW4yigOMN",
        "colab_type": "code",
        "colab": {}
      },
      "source": [
        "%%bigquery --project $project_id before_2015\n",
        "SELECT\n",
        "  tb.startYear, # When the Title started Premiering\n",
        "  tr.average_rating avg_rating\n",
        "\n",
        "FROM\n",
        "  `cs-145-p3.kaggle_imdb_title_basics_tsv_gz.titles_ratings` tr\n",
        "  ,`cs-145-p3.kaggle_imdb_title_basics_tsv_gz.title_basic` tb\n",
        "WHERE\n",
        "  tr.tconst = tb.tconst\n",
        "  AND tb.startYear < '2015'"
      ],
      "execution_count": 0,
      "outputs": []
    },
    {
      "cell_type": "code",
      "metadata": {
        "id": "lDcCKjhrgnFf",
        "colab_type": "code",
        "outputId": "68afbfa3-30b8-4732-9fe1-251bf9e99cdc",
        "colab": {
          "base_uri": "https://localhost:8080/",
          "height": 295
        }
      },
      "source": [
        "x = [int(i) for i in before_2015['startYear']]\n",
        "plt.scatter(x = x, y = before_2015['avg_rating'], s = .1)\n",
        "plt.title('Distribution of ratings of movies released before 2015')\n",
        "plt.xlabel('Year of Release')\n",
        "plt.ylabel('avg_rating')\n",
        "plt.show()"
      ],
      "execution_count": 0,
      "outputs": [
        {
          "output_type": "display_data",
          "data": {
            "image/png": "[encoded data removed]",
            "text/plain": [
              "<Figure size 432x288 with 1 Axes>"
            ]
          },
          "metadata": {
            "tags": []
          }
        }
      ]
    },
    {
      "cell_type": "markdown",
      "metadata": {
        "id": "Rz018RVAi_px",
        "colab_type": "text"
      },
      "source": [
        "---\n",
        "\n",
        "Clearly no bias in either direction, which is good for us. Now, let us check the distribution of the evaluation set\n",
        "\n",
        "---\n"
      ]
    },
    {
      "cell_type": "code",
      "metadata": {
        "id": "kvaIkaQVi_Cq",
        "colab_type": "code",
        "colab": {}
      },
      "source": [
        "%%bigquery --project $project_id after_2015\n",
        "SELECT\n",
        "  tb.startYear, # When the Title started Premiering\n",
        "  tr.average_rating avg_rating\n",
        "\n",
        "FROM\n",
        "  `cs-145-p3.kaggle_imdb_title_basics_tsv_gz.titles_ratings` tr\n",
        "  ,`cs-145-p3.kaggle_imdb_title_basics_tsv_gz.title_basic` tb\n",
        "WHERE\n",
        "  tr.tconst = tb.tconst\n",
        "  AND tb.startYear > '2015'"
      ],
      "execution_count": 0,
      "outputs": []
    },
    {
      "cell_type": "code",
      "metadata": {
        "id": "vhAm7TO4jToK",
        "colab_type": "code",
        "outputId": "0a621c97-5a75-4a76-e109-bd46cd7b5116",
        "colab": {
          "base_uri": "https://localhost:8080/",
          "height": 311
        }
      },
      "source": [
        "x = [int(i) for i in after_2015['startYear']]\n",
        "plt.scatter(x = x, y = after_2015['avg_rating'], s = .1)\n",
        "plt.xticks(ticks = np.linspace(start = 2015, stop = 2020, num = 6), rotation = 'vertical')\n",
        "plt.title('Distribution of ratings of movies released on or after 2000')\n",
        "plt.xlabel('Year of Release')\n",
        "plt.ylabel('avg_rating')\n",
        "plt.show()"
      ],
      "execution_count": 0,
      "outputs": [
        {
          "output_type": "display_data",
          "data": {
            "image/png": "[encoded data removed]",
            "text/plain": [
              "<Figure size 432x288 with 1 Axes>"
            ]
          },
          "metadata": {
            "tags": []
          }
        }
      ]
    },
    {
      "cell_type": "markdown",
      "metadata": {
        "id": "SA3dpixuNol9",
        "colab_type": "text"
      },
      "source": [
        "---\n",
        "\n",
        "Again, no bias. Now, let us check the test set\n",
        "\n",
        "---"
      ]
    },
    {
      "cell_type": "code",
      "metadata": {
        "id": "A8CbfiSMNq8T",
        "colab_type": "code",
        "colab": {}
      },
      "source": [
        "%%bigquery --project $project_id on_2015\n",
        "SELECT\n",
        "  tb.startYear, # When the Title started Premiering\n",
        "  tr.average_rating avg_rating\n",
        "\n",
        "FROM\n",
        "  `cs-145-p3.kaggle_imdb_title_basics_tsv_gz.titles_ratings` tr\n",
        "  ,`cs-145-p3.kaggle_imdb_title_basics_tsv_gz.title_basic` tb\n",
        "WHERE\n",
        "  tr.tconst = tb.tconst\n",
        "  AND tb.startYear = '2015'"
      ],
      "execution_count": 0,
      "outputs": []
    },
    {
      "cell_type": "code",
      "metadata": {
        "id": "LvBiobD2NyNF",
        "colab_type": "code",
        "outputId": "a1f1030c-420b-426e-f7a3-92aa6ee369ed",
        "colab": {
          "base_uri": "https://localhost:8080/",
          "height": 311
        }
      },
      "source": [
        "x = [int(i) for i in on_2015['startYear']]\n",
        "plt.scatter(x = x, y = on_2015['avg_rating'], s = .1)\n",
        "plt.xticks(ticks = np.linspace(start = 2014, stop = 2016, num = 3), rotation = 'vertical')\n",
        "plt.title('Distribution of ratings of movies released on or after 2000')\n",
        "plt.xlabel('Year of Release')\n",
        "plt.ylabel('avg_rating')\n",
        "plt.show()"
      ],
      "execution_count": 0,
      "outputs": [
        {
          "output_type": "display_data",
          "data": {
            "image/png": "[encoded data removed]",
            "text/plain": [
              "<Figure size 432x288 with 1 Axes>"
            ]
          },
          "metadata": {
            "tags": []
          }
        }
      ]
    },
    {
      "cell_type": "markdown",
      "metadata": {
        "id": "4k7SYj63kKsL",
        "colab_type": "text"
      },
      "source": [
        "---\n",
        "\n",
        "Again, no obvious bias here. There are scores all across the board, which proves an interesting case for applying machine learning!\n",
        "\n",
        "This dataset has 5,076,377 training data points, 661,005 evaluation points and 229,858 test points. \n",
        "---"
      ]
    },
    {
      "cell_type": "code",
      "metadata": {
        "id": "XFhCvkU_c2Uq",
        "colab_type": "code",
        "colab": {}
      },
      "source": [
        "## New\n",
        "%%bigquery --project $project_id train_dataset\n",
        "\n",
        "WITH\n",
        "  subq1 AS (\n",
        "  SELECT\n",
        "    DISTINCT(tr.tconst) Works,\n",
        "    nb.primaryName PN1,\n",
        "    nb.primaryprofession Prof,\n",
        "    CAST(tb.startYear AS NUMERIC) - CAST(nb.birthyear AS NUMERIC) AGE,\n",
        "    tb.primaryTitle Title_name,\n",
        "    CAST(tb.startYear AS NUMERIC) Start_year,\n",
        "    CAST(tb.endYear AS NUMERIC) end_year,\n",
        "    CAST(tb.endYear AS NUMERIC) - CAST(tb.startYear AS NUMERIC) show_life,\n",
        "    tb.runtimeMinutes runtime,\n",
        "    tb.genres genres,\n",
        "    nb.nconst PID\n",
        "  FROM\n",
        "    `cs-145-p3.kaggle_imdb_title_basics_tsv_gz.title_principle_data` tp,\n",
        "    `cs-145-p3.kaggle_imdb_title_basics_tsv_gz.name_basic` nb,\n",
        "    `cs-145-p3.kaggle_imdb_title_basics_tsv_gz.titles_ratings` tr,\n",
        "    `cs-145-p3.kaggle_imdb_title_basics_tsv_gz.title_basic` tb,\n",
        "    `cs-145-p3.kaggle_imdb_title_basics_tsv_gz.title_akas` ta\n",
        "  WHERE\n",
        "    nb.nconst = tp.nconst\n",
        "    AND tr.tconst = ta.titleid\n",
        "    AND tr.tconst = tp.tconst\n",
        "    AND tr.tconst = tb.tconst \n",
        "    AND tb.startYear < '2015'    \n",
        "    ) (\n",
        "  WITH\n",
        "    subq2 AS (\n",
        "    SELECT\n",
        "      titleid,\n",
        "      COUNT(distinct(region)) num_regions,\n",
        "      COUNT(distinct(language)) num_languages\n",
        "    FROM\n",
        "      subq1,\n",
        "      `cs-145-p3.kaggle_imdb_title_basics_tsv_gz.title_akas` ta\n",
        "    where subq1.Works = ta.titleId\n",
        "    GROUP BY\n",
        "      titleid) \n",
        "      \n",
        "    ( WITH\n",
        "    subq3 AS (\n",
        "    SELECT\n",
        "      nconst,\n",
        "      count(tconst) exp\n",
        "    FROM\n",
        "      subq1,\n",
        "      `cs-145-p3.kaggle_imdb_title_basics_tsv_gz.title_principle_data` tp\n",
        "    where subq1.Works = tp.tconst\n",
        "    GROUP BY\n",
        "      nconst)    \n",
        "      \n",
        "    SELECT\n",
        "      show_life,      \n",
        "      subq3.exp,\n",
        "      num_regions,\n",
        "      num_languages,\n",
        "      subq1.genres genres,\n",
        "      subq1.PN1 Persons_Name,\n",
        "      tr.average_rating label,\n",
        "      subq1.Prof,\n",
        "      subq1.AGE,\n",
        "      subq1.Title_name,\n",
        "      subq1.Start_year,\n",
        "      subq1.end_year,\n",
        "      tr.num_votes,\n",
        "      subq1.runtime\n",
        "    FROM\n",
        "      subq1,\n",
        "      subq2,\n",
        "      subq3,\n",
        "      `cs-145-p3.kaggle_imdb_title_basics_tsv_gz.titles_ratings` tr\n",
        "    WHERE\n",
        "      subq1.Works = tr.tconst\n",
        "      and subq1.PID = subq3.nconst\n",
        "      AND subq1.Works = subq2.titleid\n",
        "    \n",
        "     LIMIT 5))"
      ],
      "execution_count": 0,
      "outputs": []
    },
    {
      "cell_type": "markdown",
      "metadata": {
        "id": "cJfqBzm3jP4t",
        "colab_type": "text"
      },
      "source": [
        "---\n",
        "\n",
        "First, we examine our Training Set. \n",
        "\n",
        "---"
      ]
    },
    {
      "cell_type": "code",
      "metadata": {
        "id": "RhMlbYQeefg6",
        "colab_type": "code",
        "outputId": "e054a1d0-16aa-44d6-c657-37a87958ffce",
        "colab": {
          "base_uri": "https://localhost:8080/",
          "height": 365
        }
      },
      "source": [
        "train_dataset"
      ],
      "execution_count": 0,
      "outputs": [
        {
          "output_type": "execute_result",
          "data": {
            "text/html": [
              "<div>\n",
              "<style scoped>\n",
              "    .dataframe tbody tr th:only-of-type {\n",
              "        vertical-align: middle;\n",
              "    }\n",
              "\n",
              "    .dataframe tbody tr th {\n",
              "        vertical-align: top;\n",
              "    }\n",
              "\n",
              "    .dataframe thead th {\n",
              "        text-align: right;\n",
              "    }\n",
              "</style>\n",
              "<table border=\"1\" class=\"dataframe\">\n",
              "  <thead>\n",
              "    <tr style=\"text-align: right;\">\n",
              "      <th></th>\n",
              "      <th>show_life</th>\n",
              "      <th>exp</th>\n",
              "      <th>num_regions</th>\n",
              "      <th>num_languages</th>\n",
              "      <th>genres</th>\n",
              "      <th>Persons_Name</th>\n",
              "      <th>label</th>\n",
              "      <th>Prof</th>\n",
              "      <th>AGE</th>\n",
              "      <th>Title_name</th>\n",
              "      <th>Start_year</th>\n",
              "      <th>end_year</th>\n",
              "      <th>num_votes</th>\n",
              "      <th>runtime</th>\n",
              "    </tr>\n",
              "  </thead>\n",
              "  <tbody>\n",
              "    <tr>\n",
              "      <th>0</th>\n",
              "      <td>None</td>\n",
              "      <td>532</td>\n",
              "      <td>1</td>\n",
              "      <td>0</td>\n",
              "      <td>Music</td>\n",
              "      <td>Akon</td>\n",
              "      <td>7.0</td>\n",
              "      <td>soundtrack,actor,producer</td>\n",
              "      <td>37</td>\n",
              "      <td>The Best of the World Music Awards</td>\n",
              "      <td>2010</td>\n",
              "      <td>None</td>\n",
              "      <td>7</td>\n",
              "      <td>None</td>\n",
              "    </tr>\n",
              "    <tr>\n",
              "      <th>1</th>\n",
              "      <td>None</td>\n",
              "      <td>23</td>\n",
              "      <td>1</td>\n",
              "      <td>0</td>\n",
              "      <td>Documentary,Horror,Short</td>\n",
              "      <td>Domenic Ubaldino</td>\n",
              "      <td>7.8</td>\n",
              "      <td>editor,editorial_department,writer</td>\n",
              "      <td>None</td>\n",
              "      <td>Clive Barker: The Art of Horror</td>\n",
              "      <td>1992</td>\n",
              "      <td>None</td>\n",
              "      <td>27</td>\n",
              "      <td>30</td>\n",
              "    </tr>\n",
              "    <tr>\n",
              "      <th>2</th>\n",
              "      <td>None</td>\n",
              "      <td>5321</td>\n",
              "      <td>7</td>\n",
              "      <td>7</td>\n",
              "      <td>Action,Sport</td>\n",
              "      <td>Steve Austin</td>\n",
              "      <td>5.1</td>\n",
              "      <td>actor,producer,writer</td>\n",
              "      <td>32</td>\n",
              "      <td>Episode #4.29</td>\n",
              "      <td>1996</td>\n",
              "      <td>None</td>\n",
              "      <td>9</td>\n",
              "      <td>None</td>\n",
              "    </tr>\n",
              "    <tr>\n",
              "      <th>3</th>\n",
              "      <td>None</td>\n",
              "      <td>7</td>\n",
              "      <td>2</td>\n",
              "      <td>0</td>\n",
              "      <td>Drama,Horror</td>\n",
              "      <td>Joe Rose</td>\n",
              "      <td>6.3</td>\n",
              "      <td>actor,soundtrack,stunts</td>\n",
              "      <td>None</td>\n",
              "      <td>Invisible Temptation</td>\n",
              "      <td>1996</td>\n",
              "      <td>None</td>\n",
              "      <td>66</td>\n",
              "      <td>85</td>\n",
              "    </tr>\n",
              "    <tr>\n",
              "      <th>4</th>\n",
              "      <td>None</td>\n",
              "      <td>628</td>\n",
              "      <td>16</td>\n",
              "      <td>2</td>\n",
              "      <td>Adventure,Animation,Comedy</td>\n",
              "      <td>Kristen Schaal</td>\n",
              "      <td>6.7</td>\n",
              "      <td>actress,soundtrack,miscellaneous</td>\n",
              "      <td>32</td>\n",
              "      <td>Scared Shrekless</td>\n",
              "      <td>2010</td>\n",
              "      <td>None</td>\n",
              "      <td>3930</td>\n",
              "      <td>26</td>\n",
              "    </tr>\n",
              "  </tbody>\n",
              "</table>\n",
              "</div>"
            ],
            "text/plain": [
              "  show_life   exp  num_regions  ...  end_year num_votes runtime\n",
              "0      None   532            1  ...      None         7    None\n",
              "1      None    23            1  ...      None        27      30\n",
              "2      None  5321            7  ...      None         9    None\n",
              "3      None     7            2  ...      None        66      85\n",
              "4      None   628           16  ...      None      3930      26\n",
              "\n",
              "[5 rows x 14 columns]"
            ]
          },
          "metadata": {
            "tags": []
          },
          "execution_count": 185
        }
      ]
    },
    {
      "cell_type": "code",
      "metadata": {
        "id": "NEOyGt2fq-dJ",
        "colab_type": "code",
        "outputId": "4377cdc8-6ae3-4a45-e0e4-d69b72552ca4",
        "colab": {
          "base_uri": "https://localhost:8080/",
          "height": 32
        }
      },
      "source": [
        "%%bigquery --project $project_id \n",
        "CREATE OR REPLACE MODEL `kaggle_imdb_ml.ratings_predictions_model` \n",
        "   OPTIONS(\n",
        "       model_type='LINEAR_REG') AS\n",
        "SELECT * FROM `cs-145-p3.kaggle_imdb_title_basics_tsv_gz.train` \n"
      ],
      "execution_count": 0,
      "outputs": [
        {
          "output_type": "execute_result",
          "data": {
            "text/html": [
              "<div>\n",
              "<style scoped>\n",
              "    .dataframe tbody tr th:only-of-type {\n",
              "        vertical-align: middle;\n",
              "    }\n",
              "\n",
              "    .dataframe tbody tr th {\n",
              "        vertical-align: top;\n",
              "    }\n",
              "\n",
              "    .dataframe thead th {\n",
              "        text-align: right;\n",
              "    }\n",
              "</style>\n",
              "<table border=\"1\" class=\"dataframe\">\n",
              "  <thead>\n",
              "    <tr style=\"text-align: right;\">\n",
              "      <th></th>\n",
              "    </tr>\n",
              "  </thead>\n",
              "  <tbody>\n",
              "  </tbody>\n",
              "</table>\n",
              "</div>"
            ],
            "text/plain": [
              "Empty DataFrame\n",
              "Columns: []\n",
              "Index: []"
            ]
          },
          "metadata": {
            "tags": []
          },
          "execution_count": 170
        }
      ]
    },
    {
      "cell_type": "code",
      "metadata": {
        "id": "VRJuMzlQrjKq",
        "colab_type": "code",
        "colab": {}
      },
      "source": [
        "%%bigquery --project $project_id ml_model_ratings_predictions_training_info\n",
        "\n",
        "SELECT\n",
        "  *\n",
        "FROM\n",
        "  ML.TRAINING_INFO(MODEL `kaggle_imdb_ml.ratings_predictions_model`)"
      ],
      "execution_count": 0,
      "outputs": []
    },
    {
      "cell_type": "code",
      "metadata": {
        "id": "AoACe9m40tSM",
        "colab_type": "code",
        "outputId": "34a25653-cb1c-481a-d03b-4247c8b25364",
        "colab": {
          "base_uri": "https://localhost:8080/",
          "height": 204
        }
      },
      "source": [
        "ml_model_ratings_predictions_training_info"
      ],
      "execution_count": 0,
      "outputs": [
        {
          "output_type": "execute_result",
          "data": {
            "text/html": [
              "<div>\n",
              "<style scoped>\n",
              "    .dataframe tbody tr th:only-of-type {\n",
              "        vertical-align: middle;\n",
              "    }\n",
              "\n",
              "    .dataframe tbody tr th {\n",
              "        vertical-align: top;\n",
              "    }\n",
              "\n",
              "    .dataframe thead th {\n",
              "        text-align: right;\n",
              "    }\n",
              "</style>\n",
              "<table border=\"1\" class=\"dataframe\">\n",
              "  <thead>\n",
              "    <tr style=\"text-align: right;\">\n",
              "      <th></th>\n",
              "      <th>training_run</th>\n",
              "      <th>iteration</th>\n",
              "      <th>loss</th>\n",
              "      <th>eval_loss</th>\n",
              "      <th>learning_rate</th>\n",
              "      <th>duration_ms</th>\n",
              "    </tr>\n",
              "  </thead>\n",
              "  <tbody>\n",
              "    <tr>\n",
              "      <th>0</th>\n",
              "      <td>0</td>\n",
              "      <td>4</td>\n",
              "      <td>0.303627</td>\n",
              "      <td>0.552000</td>\n",
              "      <td>0.4</td>\n",
              "      <td>76086</td>\n",
              "    </tr>\n",
              "    <tr>\n",
              "      <th>1</th>\n",
              "      <td>0</td>\n",
              "      <td>3</td>\n",
              "      <td>0.432899</td>\n",
              "      <td>0.744565</td>\n",
              "      <td>0.2</td>\n",
              "      <td>88369</td>\n",
              "    </tr>\n",
              "    <tr>\n",
              "      <th>2</th>\n",
              "      <td>0</td>\n",
              "      <td>2</td>\n",
              "      <td>0.657106</td>\n",
              "      <td>0.872997</td>\n",
              "      <td>0.2</td>\n",
              "      <td>82765</td>\n",
              "    </tr>\n",
              "    <tr>\n",
              "      <th>3</th>\n",
              "      <td>0</td>\n",
              "      <td>1</td>\n",
              "      <td>1.362917</td>\n",
              "      <td>1.726920</td>\n",
              "      <td>0.1</td>\n",
              "      <td>77393</td>\n",
              "    </tr>\n",
              "    <tr>\n",
              "      <th>4</th>\n",
              "      <td>0</td>\n",
              "      <td>0</td>\n",
              "      <td>5.347420</td>\n",
              "      <td>5.907838</td>\n",
              "      <td>0.1</td>\n",
              "      <td>64824</td>\n",
              "    </tr>\n",
              "  </tbody>\n",
              "</table>\n",
              "</div>"
            ],
            "text/plain": [
              "   training_run  iteration      loss  eval_loss  learning_rate  duration_ms\n",
              "0             0          4  0.303627   0.552000            0.4        76086\n",
              "1             0          3  0.432899   0.744565            0.2        88369\n",
              "2             0          2  0.657106   0.872997            0.2        82765\n",
              "3             0          1  1.362917   1.726920            0.1        77393\n",
              "4             0          0  5.347420   5.907838            0.1        64824"
            ]
          },
          "metadata": {
            "tags": []
          },
          "execution_count": 172
        }
      ]
    },
    {
      "cell_type": "code",
      "metadata": {
        "id": "uXf5TytQ0w0s",
        "colab_type": "code",
        "outputId": "558a9dde-f12c-41a4-d18a-e18f4877f80f",
        "colab": {
          "base_uri": "https://localhost:8080/",
          "height": 295
        }
      },
      "source": [
        "loss = ml_model_ratings_predictions_training_info['loss']\n",
        "eval_loss = ml_model_ratings_predictions_training_info['eval_loss']\n",
        "x = range(len(loss),0, -1)\n",
        "plt.plot(loss, x, label = 'loss')\n",
        "plt.plot(eval_loss, x, label = 'eval_loss')\n",
        "plt.ylabel('Loss')\n",
        "plt.xlabel('iteration')\n",
        "plt.title('Loss over training iteration')\n",
        "plt.legend()\n",
        "plt.show()"
      ],
      "execution_count": 0,
      "outputs": [
        {
          "output_type": "display_data",
          "data": {
            "image/png": "[encoded data removed]",
            "text/plain": [
              "<Figure size 432x288 with 1 Axes>"
            ]
          },
          "metadata": {
            "tags": []
          }
        }
      ]
    },
    {
      "cell_type": "markdown",
      "metadata": {
        "id": "bWGyFH7t17TC",
        "colab_type": "text"
      },
      "source": [
        "---\n",
        "\n",
        "The loss is monotone decreasing, which is positive news\n",
        "\n",
        "---"
      ]
    },
    {
      "cell_type": "code",
      "metadata": {
        "id": "nKwv85H2ryeA",
        "colab_type": "code",
        "outputId": "8a75e31f-ae56-4d52-b481-cb24ac2fa9b6",
        "colab": {
          "base_uri": "https://localhost:8080/",
          "height": 105
        }
      },
      "source": [
        "%%bigquery --project $project_id  \n",
        "\n",
        "-- evaluating the model \n",
        "-- evaluation dataset has all movies that are released after 2015\n",
        "\n",
        "SELECT\n",
        "  *\n",
        "FROM\n",
        "  ML.EVALUATE(MODEL `kaggle_imdb_ml.ratings_predictions_model`,\n",
        "    (\n",
        "SELECT * FROM `cs-145-p3.kaggle_imdb_title_basics_tsv_gz.evaluate` ))"
      ],
      "execution_count": 0,
      "outputs": [
        {
          "output_type": "execute_result",
          "data": {
            "text/html": [
              "<div>\n",
              "<style scoped>\n",
              "    .dataframe tbody tr th:only-of-type {\n",
              "        vertical-align: middle;\n",
              "    }\n",
              "\n",
              "    .dataframe tbody tr th {\n",
              "        vertical-align: top;\n",
              "    }\n",
              "\n",
              "    .dataframe thead th {\n",
              "        text-align: right;\n",
              "    }\n",
              "</style>\n",
              "<table border=\"1\" class=\"dataframe\">\n",
              "  <thead>\n",
              "    <tr style=\"text-align: right;\">\n",
              "      <th></th>\n",
              "      <th>mean_absolute_error</th>\n",
              "      <th>mean_squared_error</th>\n",
              "      <th>mean_squared_log_error</th>\n",
              "      <th>median_absolute_error</th>\n",
              "      <th>r2_score</th>\n",
              "      <th>explained_variance</th>\n",
              "    </tr>\n",
              "  </thead>\n",
              "  <tbody>\n",
              "    <tr>\n",
              "      <th>0</th>\n",
              "      <td>1.425255</td>\n",
              "      <td>3.099954</td>\n",
              "      <td>0.059478</td>\n",
              "      <td>1.231026</td>\n",
              "      <td>-0.500112</td>\n",
              "      <td>-0.066985</td>\n",
              "    </tr>\n",
              "  </tbody>\n",
              "</table>\n",
              "</div>"
            ],
            "text/plain": [
              "   mean_absolute_error  mean_squared_error  ...  r2_score  explained_variance\n",
              "0             1.425255            3.099954  ... -0.500112           -0.066985\n",
              "\n",
              "[1 rows x 6 columns]"
            ]
          },
          "metadata": {
            "tags": []
          },
          "execution_count": 174
        }
      ]
    },
    {
      "cell_type": "code",
      "metadata": {
        "id": "V8E031Jwr7PE",
        "colab_type": "code",
        "colab": {}
      },
      "source": [
        "%%bigquery --project $project_id ml_votes_predictions\n",
        "\n",
        "SELECT\n",
        "  ROUND(predicted_label,2) predicted_label,\n",
        "  label,\n",
        "  ABS(ROUND(predicted_label - label,2)) absolute_deviation\n",
        "FROM (\n",
        "  SELECT\n",
        "    *\n",
        "  FROM\n",
        "    ML.PREDICT(MODEL `kaggle_imdb_ml.ratings_predictions_model`,\n",
        "      (\n",
        "          SELECT * FROM `cs-145-p3.kaggle_imdb_title_basics_tsv_gz.test` \n",
        "      )))\n",
        "LIMIT\n",
        "  10"
      ],
      "execution_count": 0,
      "outputs": []
    },
    {
      "cell_type": "markdown",
      "metadata": {
        "id": "QlgkDSe2miAJ",
        "colab_type": "text"
      },
      "source": [
        "---\n",
        "\n",
        "We now show the output of the ML algorithm - the predicted ratings against the actual ratings and the absolute deviation\n",
        "\n",
        "---"
      ]
    },
    {
      "cell_type": "code",
      "metadata": {
        "id": "4oh7XlIUzKbC",
        "colab_type": "code",
        "outputId": "41207668-4ce3-4dd8-dabf-99f5a4bf07fc",
        "colab": {
          "base_uri": "https://localhost:8080/",
          "height": 359
        }
      },
      "source": [
        "ml_votes_predictions"
      ],
      "execution_count": 0,
      "outputs": [
        {
          "output_type": "execute_result",
          "data": {
            "text/html": [
              "<div>\n",
              "<style scoped>\n",
              "    .dataframe tbody tr th:only-of-type {\n",
              "        vertical-align: middle;\n",
              "    }\n",
              "\n",
              "    .dataframe tbody tr th {\n",
              "        vertical-align: top;\n",
              "    }\n",
              "\n",
              "    .dataframe thead th {\n",
              "        text-align: right;\n",
              "    }\n",
              "</style>\n",
              "<table border=\"1\" class=\"dataframe\">\n",
              "  <thead>\n",
              "    <tr style=\"text-align: right;\">\n",
              "      <th></th>\n",
              "      <th>predicted_label</th>\n",
              "      <th>label</th>\n",
              "      <th>absolute_deviation</th>\n",
              "    </tr>\n",
              "  </thead>\n",
              "  <tbody>\n",
              "    <tr>\n",
              "      <th>0</th>\n",
              "      <td>5.46</td>\n",
              "      <td>6.1</td>\n",
              "      <td>0.64</td>\n",
              "    </tr>\n",
              "    <tr>\n",
              "      <th>1</th>\n",
              "      <td>6.13</td>\n",
              "      <td>6.1</td>\n",
              "      <td>0.03</td>\n",
              "    </tr>\n",
              "    <tr>\n",
              "      <th>2</th>\n",
              "      <td>6.12</td>\n",
              "      <td>6.1</td>\n",
              "      <td>0.02</td>\n",
              "    </tr>\n",
              "    <tr>\n",
              "      <th>3</th>\n",
              "      <td>6.34</td>\n",
              "      <td>6.1</td>\n",
              "      <td>0.24</td>\n",
              "    </tr>\n",
              "    <tr>\n",
              "      <th>4</th>\n",
              "      <td>6.63</td>\n",
              "      <td>6.1</td>\n",
              "      <td>0.53</td>\n",
              "    </tr>\n",
              "    <tr>\n",
              "      <th>5</th>\n",
              "      <td>6.19</td>\n",
              "      <td>6.1</td>\n",
              "      <td>0.09</td>\n",
              "    </tr>\n",
              "    <tr>\n",
              "      <th>6</th>\n",
              "      <td>6.18</td>\n",
              "      <td>6.1</td>\n",
              "      <td>0.08</td>\n",
              "    </tr>\n",
              "    <tr>\n",
              "      <th>7</th>\n",
              "      <td>7.13</td>\n",
              "      <td>7.1</td>\n",
              "      <td>0.03</td>\n",
              "    </tr>\n",
              "    <tr>\n",
              "      <th>8</th>\n",
              "      <td>6.81</td>\n",
              "      <td>7.1</td>\n",
              "      <td>0.29</td>\n",
              "    </tr>\n",
              "    <tr>\n",
              "      <th>9</th>\n",
              "      <td>7.78</td>\n",
              "      <td>7.1</td>\n",
              "      <td>0.68</td>\n",
              "    </tr>\n",
              "  </tbody>\n",
              "</table>\n",
              "</div>"
            ],
            "text/plain": [
              "   predicted_label  label  absolute_deviation\n",
              "0             5.46    6.1                0.64\n",
              "1             6.13    6.1                0.03\n",
              "2             6.12    6.1                0.02\n",
              "3             6.34    6.1                0.24\n",
              "4             6.63    6.1                0.53\n",
              "5             6.19    6.1                0.09\n",
              "6             6.18    6.1                0.08\n",
              "7             7.13    7.1                0.03\n",
              "8             6.81    7.1                0.29\n",
              "9             7.78    7.1                0.68"
            ]
          },
          "metadata": {
            "tags": []
          },
          "execution_count": 176
        }
      ]
    },
    {
      "cell_type": "markdown",
      "metadata": {
        "id": "Dg7Lhqi_yDcy",
        "colab_type": "text"
      },
      "source": [
        "## Conclusion"
      ]
    },
    {
      "cell_type": "markdown",
      "metadata": {
        "id": "YmVpTigjyHMY",
        "colab_type": "text"
      },
      "source": [
        "---\n",
        "\n",
        "Looks like our model is realistic and we are able to predict within some range of accuracy within 75 to 80% accuracy in this sample. \n",
        "\n",
        "Let us examine the results to see a distribution of the deviances. \n",
        "\n",
        "---"
      ]
    },
    {
      "cell_type": "code",
      "metadata": {
        "id": "z0BwuNF921D1",
        "colab_type": "code",
        "colab": {}
      },
      "source": [
        "%%bigquery --project $project_id ml_votes_predictions_full\n",
        "\n",
        "SELECT\n",
        "  ROUND(predicted_label,2) predicted_label,\n",
        "  label,\n",
        "  ABS(ROUND(predicted_label - label,2)) absolute_difference\n",
        "FROM (\n",
        "  SELECT\n",
        "    *\n",
        "  FROM\n",
        "    ML.PREDICT(MODEL `kaggle_imdb_ml.ratings_predictions_model`,\n",
        "      (\n",
        "          SELECT * FROM `cs-145-p3.kaggle_imdb_title_basics_tsv_gz.test` \n",
        "      )))\n"
      ],
      "execution_count": 0,
      "outputs": []
    },
    {
      "cell_type": "code",
      "metadata": {
        "id": "QBc4LFV224Hu",
        "colab_type": "code",
        "outputId": "cccc5557-bda3-43e6-af29-c9b3b1446e4f",
        "colab": {
          "base_uri": "https://localhost:8080/",
          "height": 295
        }
      },
      "source": [
        "bins = np.linspace(start = 0, stop = 8, num = 1000)\n",
        "Heights, bins, plots = plt.hist(ml_votes_predictions_full['absolute_difference'], bins = bins)\n",
        "#plt.plot(ml_votes_predictions['ml_votes_predictions_full'])\n",
        "plt.title('Histogram of deviation from true label')\n",
        "plt.xlabel('Deviation of predicted label from true label')\n",
        "plt.ylabel('Number of observations')\n",
        "plt.show()"
      ],
      "execution_count": 0,
      "outputs": [
        {
          "output_type": "display_data",
          "data": {
            "image/png": "[encoded data removed]",
            "text/plain": [
              "<Figure size 432x288 with 1 Axes>"
            ]
          },
          "metadata": {
            "tags": []
          }
        }
      ]
    },
    {
      "cell_type": "markdown",
      "metadata": {
        "id": "SudgCEd6oDKw",
        "colab_type": "text"
      },
      "source": [
        "---\n",
        "\n",
        "Let us see some of the worst deviations in context of the rest of the data to decipher whether certain attributes of the data are causing the greatest deviation.\n",
        "\n",
        "---"
      ]
    },
    {
      "cell_type": "code",
      "metadata": {
        "id": "4RCq06ZaEjRA",
        "colab_type": "code",
        "colab": {}
      },
      "source": [
        "%%bigquery --project $project_id ml_votes_predictions_worst_5_predictions\n",
        "\n",
        "SELECT  \n",
        "  ABS(ROUND(predicted_label - label,2)) absolute_difference,\n",
        "  Title_name\n",
        "FROM (\n",
        "  SELECT\n",
        "    *\n",
        "  FROM\n",
        "    ML.PREDICT(MODEL `kaggle_imdb_ml.ratings_predictions_model`,\n",
        "      (\n",
        "          SELECT * FROM `cs-145-p3.kaggle_imdb_title_basics_tsv_gz.test`\n",
        "      )))\n",
        "WHERE  ABS(ROUND(predicted_label - label,2)) > 0\n",
        "ORDER BY absolute_difference desc  \n",
        "LIMIT\n",
        "  5\n"
      ],
      "execution_count": 0,
      "outputs": []
    },
    {
      "cell_type": "code",
      "metadata": {
        "id": "tq8-BSLxFDQe",
        "colab_type": "code",
        "outputId": "f60271d0-5a58-45b1-91d9-8b4883da1f75",
        "colab": {
          "base_uri": "https://localhost:8080/",
          "height": 204
        }
      },
      "source": [
        "ml_votes_predictions_worst_5_predictions"
      ],
      "execution_count": 0,
      "outputs": [
        {
          "output_type": "execute_result",
          "data": {
            "text/html": [
              "<div>\n",
              "<style scoped>\n",
              "    .dataframe tbody tr th:only-of-type {\n",
              "        vertical-align: middle;\n",
              "    }\n",
              "\n",
              "    .dataframe tbody tr th {\n",
              "        vertical-align: top;\n",
              "    }\n",
              "\n",
              "    .dataframe thead th {\n",
              "        text-align: right;\n",
              "    }\n",
              "</style>\n",
              "<table border=\"1\" class=\"dataframe\">\n",
              "  <thead>\n",
              "    <tr style=\"text-align: right;\">\n",
              "      <th></th>\n",
              "      <th>absolute_difference</th>\n",
              "      <th>Title_name</th>\n",
              "    </tr>\n",
              "  </thead>\n",
              "  <tbody>\n",
              "    <tr>\n",
              "      <th>0</th>\n",
              "      <td>7.00</td>\n",
              "      <td>Ultimate Pools America</td>\n",
              "    </tr>\n",
              "    <tr>\n",
              "      <th>1</th>\n",
              "      <td>6.38</td>\n",
              "      <td>Episode #7.34</td>\n",
              "    </tr>\n",
              "    <tr>\n",
              "      <th>2</th>\n",
              "      <td>6.31</td>\n",
              "      <td>Becoming</td>\n",
              "    </tr>\n",
              "    <tr>\n",
              "      <th>3</th>\n",
              "      <td>6.25</td>\n",
              "      <td>Another Love</td>\n",
              "    </tr>\n",
              "    <tr>\n",
              "      <th>4</th>\n",
              "      <td>6.12</td>\n",
              "      <td>Jackknife County: Liars, Cheats and Poker Chips</td>\n",
              "    </tr>\n",
              "  </tbody>\n",
              "</table>\n",
              "</div>"
            ],
            "text/plain": [
              "   absolute_difference                                       Title_name\n",
              "0                 7.00                           Ultimate Pools America\n",
              "1                 6.38                                    Episode #7.34\n",
              "2                 6.31                                         Becoming\n",
              "3                 6.25                                     Another Love\n",
              "4                 6.12  Jackknife County: Liars, Cheats and Poker Chips"
            ]
          },
          "metadata": {
            "tags": []
          },
          "execution_count": 180
        }
      ]
    },
    {
      "cell_type": "markdown",
      "metadata": {
        "id": "3mhk0RIn6Xgc",
        "colab_type": "text"
      },
      "source": [
        "---\n",
        "\n",
        "The prediction shows the top 10 worst predictions by absolute deviance from ground truth. One of the reasons for this deviation from ground truth is the low number of votes for a highly rated Title. The Titles with low number of votes exhibit high variance in the ratings. The titles with a high number of votes exhibit a high bias in the ratings - tend to be skewed right. Hence, when a Title has a low number of votes like this one, the spread makes it more likely for the ML algorithm to predict a fair average. However, the extremely low predicted label leads one to question the other features such as the actor themselves, the popularity of the Title and other such factors, which could make this prediction relaistic for the average user.\n",
        "\n",
        "---"
      ]
    },
    {
      "cell_type": "code",
      "metadata": {
        "id": "ulOezqOc3tR0",
        "colab_type": "code",
        "colab": {}
      },
      "source": [
        "%%bigquery --project $project_id bad_predictions_and_their_genres\n",
        "\n",
        "SELECT  \n",
        "  COUNT(ABS(ROUND(predicted_label - label,2))) cnt,\n",
        "  num_votes\n",
        "FROM (\n",
        "  SELECT\n",
        "    *\n",
        "  FROM\n",
        "    ML.PREDICT(MODEL `kaggle_imdb_ml.ratings_predictions_model`,\n",
        "      (\n",
        "          SELECT * FROM `cs-145-p3.kaggle_imdb_title_basics_tsv_gz.test`\n",
        "      )))\n",
        "\n",
        "where ABS(ROUND(predicted_label - label,2)) > 0\n",
        "GROUP BY\n",
        "  num_votes\n",
        "\n"
      ],
      "execution_count": 0,
      "outputs": []
    },
    {
      "cell_type": "code",
      "metadata": {
        "id": "ssBb7GS33vdO",
        "colab_type": "code",
        "outputId": "5d08e310-a1ce-4704-fdd9-6283923457bf",
        "colab": {
          "base_uri": "https://localhost:8080/",
          "height": 297
        }
      },
      "source": [
        "fig, axes = plt.subplots(nrows=1, ncols=2, figsize=(10, 4))\n",
        "axes[0].scatter(y = np.log10(bad_predictions_and_their_genres['cnt']), x = np.log10(bad_predictions_and_their_genres['num_votes']), s = 5)\n",
        "axes[1].scatter( y = np.log10(numvotes['count']), x = np.log10(numvotes['votes']), s = 1)\n",
        "\n",
        "axes[0].set(xlabel='Number of Votes', ylabel='Log number of bad predictions')\n",
        "axes[0].set_title('Distribution of erroneous predictions')\n",
        "\n",
        "axes[1].set(xlabel='Log # of votes', ylabel='Log # of Titles')\n",
        "axes[1].set_title('Distribution of # of votes given to Titles on IMDB')\n",
        "fig.tight_layout()"
      ],
      "execution_count": 0,
      "outputs": [
        {
          "output_type": "display_data",
          "data": {
            "image/png": "[encoded data removed]",
            "text/plain": [
              "<Figure size 720x288 with 2 Axes>"
            ]
          },
          "metadata": {
            "tags": []
          }
        }
      ]
    },
    {
      "cell_type": "markdown",
      "metadata": {
        "id": "3Zqs-FNxGOXJ",
        "colab_type": "text"
      },
      "source": [
        "---\n",
        "\n",
        "The graph on the left shows us a log-log plot of the number of votes received by a title and the number of erroneous predictions of rating for a Title with those many number of votes. \n",
        "\n",
        "The grpah on the right, shows us a log-log plot of the number of votes received by a title and the number of titles with those many votes. \n",
        "\n",
        "This exciting pair of graphs show us that the numer of errors (on the left) made looks fairly evenly sampled from the total number of titles with those many votes (right). \n",
        "\n",
        "We can then conclude that this is a fairly unbiased prediction. \n",
        "\n",
        "---"
      ]
    },
    {
      "cell_type": "code",
      "metadata": {
        "id": "DalUJbf-XLrP",
        "colab_type": "code",
        "outputId": "d31c491d-ea76-4f0d-bed4-38290f967749",
        "colab": {
          "base_uri": "https://localhost:8080/",
          "height": 153
        }
      },
      "source": [
        "from google.cloud import bigquery\n",
        "client = bigquery.Client(project=project_id)\n",
        "query_string = 'WITH   cnt_tot_tbl AS (   SELECT     COUNT(Title_name) cnt_tot   FROM     `cs-145-p3.kaggle_imdb_title_basics_tsv_gz.test` ) (   WITH     cnt_dev_tbl AS (     SELECT       COUNT(Title_name) cnt_dev     FROM (       SELECT         *       FROM         ML.PREDICT(MODEL `kaggle_imdb_ml.ratings_predictions_model`,           (           SELECT             *           FROM             `cs-145-p3.kaggle_imdb_title_basics_tsv_gz.test` )))     WHERE       ABS(ROUND(predicted_label - label,2)) > %f )   SELECT     cnt_tot,     cnt_dev,     ROUND(100 * (cnt_dev / cnt_tot),4) percent_deviance    FROM     cnt_tot_tbl,     cnt_dev_tbl    ORDER BY     percent_deviance DESC )'\n",
        "\n",
        "\n",
        "for i in range(0, 7, 1):\n",
        "  query_i = query_string %(i)\n",
        "  x = client.query(query_i).to_dataframe()\n",
        "  per_dev = 100 - x['percent_deviance'][0]\n",
        "  per_dev = round(per_dev, 2)\n",
        "  print(\"We are \", per_dev, \"% accurate within\", i, \"stars of the ground truth\")\n",
        "\n",
        "print(\"Please bear in mind that the rating of a Title is a score out of 10\")"
      ],
      "execution_count": 0,
      "outputs": [
        {
          "output_type": "stream",
          "text": [
            "We are  0.22 % accurate within 0 stars of the ground truth\n",
            "We are  43.34 % accurate within 1 stars of the ground truth\n",
            "We are  75.99 % accurate within 2 stars of the ground truth\n",
            "We are  92.31 % accurate within 3 stars of the ground truth\n",
            "We are  98.49 % accurate within 4 stars of the ground truth\n",
            "We are  99.92 % accurate within 5 stars of the ground truth\n",
            "We are  100.0 % accurate within 6 stars of the ground truth\n",
            "Please bear in mind that the rating of a Title is a score out of 10\n"
          ],
          "name": "stdout"
        }
      ]
    },
    {
      "cell_type": "markdown",
      "metadata": {
        "id": "RFiXOufBQdoH",
        "colab_type": "text"
      },
      "source": [
        "---\n",
        "\n",
        "A fair ballpark is within +/- 2 stars out of 10 and we show a 75.99% accuracy. We can take a few measures to improve this accuracy. \n",
        "\n",
        "---"
      ]
    },
    {
      "cell_type": "markdown",
      "metadata": {
        "id": "WiEXLwURj5Hq",
        "colab_type": "text"
      },
      "source": [
        "## Conclusion"
      ]
    },
    {
      "cell_type": "markdown",
      "metadata": {
        "id": "Ml0k0mho9w8W",
        "colab_type": "text"
      },
      "source": [
        "\n",
        "---\n",
        "\n",
        "From this study, we have found some interesting features of cinema that are considerably useful in predicitng how good a particular Title will be. \n",
        "\n",
        "Further, we have learned that when looking for data alogn one axis such as rating, it is important to keep in mind the variation over another axis such as experience. Keeping this in mind helps de-color our experiments and filter out noise in our data. \n",
        "\n",
        "Further, we can see how sensitive our data is to double counting - unfolding lists and wanting to have an ML algorithm look at every row of a training dataset while aggregating some features, allows for significant repetition in the training set. \n",
        "\n",
        "This causes us to have a trade-off, between normalization and double counting. Using the theory of Normalization, we  unnest a list but then encounter repeated records which cannot be aggregated losslessly. \n",
        "\n",
        "This opens up the scope for theoretical research in the field, and concludes our project. \n",
        "\n",
        "\n",
        "---"
      ]
    }
  ]
}